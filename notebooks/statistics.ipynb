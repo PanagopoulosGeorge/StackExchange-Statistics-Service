{
 "cells": [
  {
   "cell_type": "code",
   "id": "5aed7833-916f-491c-b3d9-2144a6ac2cb3",
   "metadata": {
    "ExecuteTime": {
     "end_time": "2025-06-28T08:34:57.010008Z",
     "start_time": "2025-06-28T08:34:57.005031Z"
    }
   },
   "source": [
    "import setup  # notebooks/setup.py\\\n",
    "setup.init(verbose = True)"
   ],
   "outputs": [
    {
     "name": "stdout",
     "output_type": "stream",
     "text": [
      "Applied nest_asyncio patch for Jupyter compatibility\n",
      "Changed working directory to: /Users/gphome/Desktop/projects/Obrela-assignment/StackExchange-Statistics-Service/src\n"
     ]
    }
   ],
   "execution_count": 4
  },
  {
   "cell_type": "code",
   "id": "1b0f7d31-3f9a-4494-aadd-54adc17eaeb1",
   "metadata": {
    "ExecuteTime": {
     "end_time": "2025-06-28T08:34:57.812102Z",
     "start_time": "2025-06-28T08:34:57.807654Z"
    }
   },
   "source": [
    "from app.components import statistics, stackexchange\n",
    "from datetime import datetime"
   ],
   "outputs": [],
   "execution_count": 5
  },
  {
   "cell_type": "code",
   "id": "579542ca-0d0b-4ee7-a4cc-943931310a71",
   "metadata": {
    "ExecuteTime": {
     "end_time": "2025-06-28T08:34:59.070962Z",
     "start_time": "2025-06-28T08:34:59.064796Z"
    }
   },
   "source": [
    "stack_client = stackexchange.StackExchangeClient()"
   ],
   "outputs": [],
   "execution_count": 6
  },
  {
   "cell_type": "code",
   "id": "3d74c8fc-090a-425a-90c1-3ce93c6b8996",
   "metadata": {
    "ExecuteTime": {
     "end_time": "2025-06-28T08:35:00.043980Z",
     "start_time": "2025-06-28T08:34:59.711748Z"
    }
   },
   "source": "answers = stack_client.get_answers(start_date_unix = 1672560000, end_date_unix = 1672560600, mock_api = False)",
   "outputs": [],
   "execution_count": 7
  },
  {
   "cell_type": "code",
   "id": "b98cbfb0-4b2b-446e-99dc-348eeefc0293",
   "metadata": {
    "ExecuteTime": {
     "end_time": "2025-06-28T08:35:01.696603Z",
     "start_time": "2025-06-28T08:35:01.688913Z"
    }
   },
   "source": [
    "len(answers)"
   ],
   "outputs": [
    {
     "data": {
      "text/plain": [
       "12"
      ]
     },
     "execution_count": 8,
     "metadata": {},
     "output_type": "execute_result"
    }
   ],
   "execution_count": 8
  },
  {
   "cell_type": "code",
   "id": "2a7c8b38-b152-4a5b-83b2-09f47bb1e8c6",
   "metadata": {
    "ExecuteTime": {
     "end_time": "2025-06-28T08:35:18.015894Z",
     "start_time": "2025-06-28T08:35:18.012544Z"
    }
   },
   "source": [
    "stat_client = statistics.StackStatsCalculator(answers)"
   ],
   "outputs": [],
   "execution_count": 10
  },
  {
   "cell_type": "code",
   "id": "24537aed-ae12-4205-a6e6-9d9796fa153c",
   "metadata": {
    "ExecuteTime": {
     "end_time": "2025-06-28T08:35:19.232705Z",
     "start_time": "2025-06-28T08:35:18.935115Z"
    }
   },
   "source": [
    "result = stat_client.compute()"
   ],
   "outputs": [],
   "execution_count": 11
  },
  {
   "cell_type": "code",
   "id": "53072e8f-8739-4c36-9bd7-78251fbcb117",
   "metadata": {
    "ExecuteTime": {
     "end_time": "2025-06-28T08:35:22.508714Z",
     "start_time": "2025-06-28T08:35:22.503890Z"
    }
   },
   "source": [
    "result"
   ],
   "outputs": [
    {
     "data": {
      "text/plain": [
       "{'total_accepted_answers': 5,\n",
       " 'accepted_answers_average_score': 1.8,\n",
       " 'average_answers_per_question': 1.0,\n",
       " 'top_ten_answers_comment_count': {'74973626': 0,\n",
       "  '74973635': 1,\n",
       "  '74973645': 2,\n",
       "  '74973625': 0,\n",
       "  '74973638': 3,\n",
       "  '74973620': 0,\n",
       "  '74973622': 0,\n",
       "  '74973633': 0,\n",
       "  '74973637': 0,\n",
       "  '74973646': 1}}"
      ]
     },
     "execution_count": 12,
     "metadata": {},
     "output_type": "execute_result"
    }
   ],
   "execution_count": 12
  },
  {
   "cell_type": "code",
   "id": "8fd34c14-7948-4148-9d0c-b87f05259dcc",
   "metadata": {
    "ExecuteTime": {
     "end_time": "2025-06-26T14:37:22.706372Z",
     "start_time": "2025-06-26T14:37:07.604500Z"
    }
   },
   "source": [
    "import time\n",
    "since_str = '2023-01-02 12:00:00'\n",
    "until_str = '2023-01-02 18:00:00'\n",
    "if not since_str or not until_str:\n",
    "    print({\"error\": \"Missing 'since' or 'until' parameters\"})\n",
    "try:\n",
    "    since_dt = datetime.strptime(since_str, '%Y-%m-%d %H:%M:%S')\n",
    "    until_dt = datetime.strptime(until_str, '%Y-%m-%d %H:%M:%S')\n",
    "    since_unix = int(since_dt.timestamp())\n",
    "    until_unix = int(until_dt.timestamp())\n",
    "except ValueError:\n",
    "    print({\"error\": \"Invalid datetime format. Use 'YYYY-MM-DD HH:MM:SS'\"})\n",
    "if since_dt >= until_dt:\n",
    "    print({\"error\": \"'since' datetime must be earlier than 'until' datetime\"})\n",
    "# Pass the parsed datetime objects to get_answers\n",
    "## if timer starts from here ~ 500 ms (for mock - public gist) and > 1000 ms for an 1-hour API call\n",
    "start = time.time()\n",
    "stat_client.answers = stat_client.stackexchange_client.get_answers(start_date_unix = since_unix, end_date_unix = until_unix, mock_api=False)\n",
    "if \"error\" in stat_client.answers:\n",
    "    print(stat_client.answers)\n",
    "\n",
    "## if timer starts from here < 300 ms\n",
    "result = stat_client.compute()\n",
    "end = time.time()\n",
    "ms_elapsed = (end - start) * 1000\n",
    "print(\"Time elapsed: \", ms_elapsed)\n",
    "print(result)"
   ],
   "outputs": [
    {
     "name": "stdout",
     "output_type": "stream",
     "text": [
      "Time elapsed:  15093.661785125732\n",
      "{'total_accepted_answers': 431, 'accepted_answers_average_score': 1.907, 'average_answers_per_question': 1.128, 'top_ten_answers_comment_count': {'74983731': 3, '74984160': 3, '74982146': 1, '74982649': 4, '74982102': 2, '74984425': 0, '74982440': 0, '74982798': 0, '74984083': 0, '74982136': 0, '74987356': 2, '74989300': 3, '74988537': 1, '74986160': 1}}\n"
     ]
    }
   ],
   "execution_count": 19
  },
  {
   "cell_type": "code",
   "id": "750e20b1-afd4-40bd-9eba-dade84148ac0",
   "metadata": {
    "ExecuteTime": {
     "end_time": "2025-06-26T14:37:58.321836Z",
     "start_time": "2025-06-26T14:37:58.316387Z"
    }
   },
   "source": "len(stat_client.answers)",
   "outputs": [
    {
     "data": {
      "text/plain": [
       "1350"
      ]
     },
     "execution_count": 20,
     "metadata": {},
     "output_type": "execute_result"
    }
   ],
   "execution_count": 20
  },
  {
   "metadata": {},
   "cell_type": "code",
   "outputs": [],
   "execution_count": null,
   "source": "",
   "id": "e8b2a0203e5f1a88"
  }
 ],
 "metadata": {
  "kernelspec": {
   "display_name": "Python 3 (ipykernel)",
   "language": "python",
   "name": "python3"
  },
  "language_info": {
   "codemirror_mode": {
    "name": "ipython",
    "version": 3
   },
   "file_extension": ".py",
   "mimetype": "text/x-python",
   "name": "python",
   "nbconvert_exporter": "python",
   "pygments_lexer": "ipython3",
   "version": "3.9.6"
  }
 },
 "nbformat": 4,
 "nbformat_minor": 5
}
