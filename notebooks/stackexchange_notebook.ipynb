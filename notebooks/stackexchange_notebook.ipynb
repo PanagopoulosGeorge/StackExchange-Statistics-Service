{
 "cells": [
  {
   "cell_type": "code",
   "id": "a89cf440-584e-45a1-bcc4-eb46fb2c500e",
   "metadata": {
    "ExecuteTime": {
     "end_time": "2025-06-28T08:25:54.347317Z",
     "start_time": "2025-06-28T08:25:54.341757Z"
    }
   },
   "source": [
    "import setup  # notebooks/setup.py\n",
    "setup.init(verbose = True)"
   ],
   "outputs": [
    {
     "name": "stdout",
     "output_type": "stream",
     "text": [
      "Applied nest_asyncio patch for Jupyter compatibility\n",
      "Changed working directory to: /Users/gphome/Desktop/projects/Obrela-assignment/StackExchange-Statistics-Service/src\n"
     ]
    }
   ],
   "execution_count": 1
  },
  {
   "cell_type": "code",
   "id": "7c596b57-df86-4a1c-b0e6-d09f21860303",
   "metadata": {
    "ExecuteTime": {
     "end_time": "2025-06-28T08:26:10.328953Z",
     "start_time": "2025-06-28T08:26:10.287030Z"
    }
   },
   "source": [
    "from datetime import datetime\n",
    "from app.components.stackexchange import StackExchangeClient\n",
    "import json\n",
    "from pathlib import Path\n",
    "MOCK = False\n",
    "MOCK_DATA = Path('mock_data')"
   ],
   "outputs": [],
   "execution_count": 2
  },
  {
   "cell_type": "code",
   "id": "20f28d9f-4a33-4571-8992-45c9e50fdac4",
   "metadata": {
    "ExecuteTime": {
     "end_time": "2025-06-28T08:31:45.452342Z",
     "start_time": "2025-06-28T08:31:45.118812Z"
    }
   },
   "source": [
    "client = StackExchangeClient()\n",
    "if not MOCK:\n",
    "    ##\n",
    "    start_date = datetime(2023, 1, 1, 10, 0, 0)\n",
    "    end_date = datetime(2023, 1, 1, 10, 10, 0)\n",
    "    ##\n",
    "    since = int(start_date.timestamp())\n",
    "    until = int(end_date.timestamp())\n",
    "    answers = client.get_answers(since, until)\n",
    "else:\n",
    "    filename = \"answers_2025-06-01_00-00-00_2025-07-01_00-00-00.json\"\n",
    "    full_path = MOCK_DATA / filename\n",
    "    answers = json.loads(full_path.read_text(encoding='utf-8'))\n",
    "print(f\"Fetched {len(answers)} number of answers\")\n"
   ],
   "outputs": [
    {
     "name": "stdout",
     "output_type": "stream",
     "text": [
      "Fetched 12 number of answers\n"
     ]
    }
   ],
   "execution_count": 13
  },
  {
   "cell_type": "code",
   "id": "5f90b384-35e6-42d8-8978-fdc92b62b1fc",
   "metadata": {
    "ExecuteTime": {
     "end_time": "2025-06-28T08:31:47.124250Z",
     "start_time": "2025-06-28T08:31:47.114647Z"
    }
   },
   "source": "answers",
   "outputs": [
    {
     "data": {
      "text/plain": [
       "[{'owner': {'account_id': 16720228,\n",
       "   'reputation': 39,\n",
       "   'user_id': 12085365,\n",
       "   'user_type': 'registered',\n",
       "   'profile_image': 'https://www.gravatar.com/avatar/54f2183a279e5efc4edc4922355e984d?s=256&d=identicon&r=PG&f=y&so-version=2',\n",
       "   'display_name': 'Jetdr',\n",
       "   'link': 'https://stackoverflow.com/users/12085365/jetdr'},\n",
       "  'is_accepted': False,\n",
       "  'score': 0,\n",
       "  'last_activity_date': 1672560028,\n",
       "  'creation_date': 1672560028,\n",
       "  'answer_id': 74973620,\n",
       "  'question_id': 74577705,\n",
       "  'content_license': 'CC BY-SA 4.0'},\n",
       " {'owner': {'account_id': 9086880,\n",
       "   'reputation': 74,\n",
       "   'user_id': 6764496,\n",
       "   'user_type': 'registered',\n",
       "   'profile_image': 'https://www.gravatar.com/avatar/bd41b51a83a2feb7212c239be547b5af?s=256&d=identicon&r=PG&f=y&so-version=2',\n",
       "   'display_name': 'Mohd Baquir Qureshi',\n",
       "   'link': 'https://stackoverflow.com/users/6764496/mohd-baquir-qureshi'},\n",
       "  'is_accepted': False,\n",
       "  'score': -1,\n",
       "  'last_activity_date': 1672560092,\n",
       "  'creation_date': 1672560092,\n",
       "  'answer_id': 74973621,\n",
       "  'question_id': 71480064,\n",
       "  'content_license': 'CC BY-SA 4.0'},\n",
       " {'owner': {'account_id': 8306545,\n",
       "   'reputation': 58391,\n",
       "   'user_id': 6243352,\n",
       "   'user_type': 'registered',\n",
       "   'profile_image': 'https://www.gravatar.com/avatar/193965abcb7230d85c6264e55e2f0bda?s=256&d=identicon&r=PG&f=y&so-version=2',\n",
       "   'display_name': 'ggorlen',\n",
       "   'link': 'https://stackoverflow.com/users/6243352/ggorlen'},\n",
       "  'is_accepted': False,\n",
       "  'score': 0,\n",
       "  'last_activity_date': 1672560097,\n",
       "  'creation_date': 1672560097,\n",
       "  'answer_id': 74973622,\n",
       "  'question_id': 61991772,\n",
       "  'content_license': 'CC BY-SA 4.0'},\n",
       " {'owner': {'account_id': 3176925,\n",
       "   'reputation': 223063,\n",
       "   'user_id': 2684539,\n",
       "   'user_type': 'registered',\n",
       "   'profile_image': 'https://i.sstatic.net/xTMIL.jpg?s=256',\n",
       "   'display_name': 'Jarod42',\n",
       "   'link': 'https://stackoverflow.com/users/2684539/jarod42'},\n",
       "  'is_accepted': True,\n",
       "  'score': 1,\n",
       "  'last_activity_date': 1672560174,\n",
       "  'creation_date': 1672560174,\n",
       "  'answer_id': 74973625,\n",
       "  'question_id': 74973291,\n",
       "  'content_license': 'CC BY-SA 4.0'},\n",
       " {'owner': {'account_id': 1691630,\n",
       "   'reputation': 50940,\n",
       "   'user_id': 1553851,\n",
       "   'user_type': 'registered',\n",
       "   'accept_rate': 73,\n",
       "   'profile_image': 'https://www.gravatar.com/avatar/ad333c218c8f2fb917cf506919fc95f4?s=256&d=identicon&r=PG',\n",
       "   'display_name': 'shmosel',\n",
       "   'link': 'https://stackoverflow.com/users/1553851/shmosel'},\n",
       "  'is_accepted': True,\n",
       "  'score': 3,\n",
       "  'last_activity_date': 1672560176,\n",
       "  'creation_date': 1672560176,\n",
       "  'answer_id': 74973626,\n",
       "  'question_id': 74973566,\n",
       "  'content_license': 'CC BY-SA 4.0'},\n",
       " {'owner': {'account_id': 8589412,\n",
       "   'reputation': 19,\n",
       "   'user_id': 7455469,\n",
       "   'user_type': 'registered',\n",
       "   'profile_image': 'https://lh3.googleusercontent.com/-Pu8mWTNZ91Q/AAAAAAAAAAI/AAAAAAAAAWQ/ZD0YPrT8IMw/s256-rj/photo.jpg',\n",
       "   'display_name': 'Yuh-Jye Chang',\n",
       "   'link': 'https://stackoverflow.com/users/7455469/yuh-jye-chang'},\n",
       "  'is_accepted': False,\n",
       "  'score': -1,\n",
       "  'last_activity_date': 1672560251,\n",
       "  'creation_date': 1672560251,\n",
       "  'answer_id': 74973631,\n",
       "  'question_id': 5234581,\n",
       "  'content_license': 'CC BY-SA 4.0'},\n",
       " {'owner': {'account_id': 19147887,\n",
       "   'reputation': 153,\n",
       "   'user_id': 13986424,\n",
       "   'user_type': 'registered',\n",
       "   'profile_image': 'https://lh3.googleusercontent.com/a-/AOh14Gj40qjIO-wL5NdV_OQ9PbEf5iWl7ME_r40faXjW=k-s256',\n",
       "   'display_name': 'Afshin Rahmati',\n",
       "   'link': 'https://stackoverflow.com/users/13986424/afshin-rahmati'},\n",
       "  'is_accepted': False,\n",
       "  'score': 0,\n",
       "  'last_activity_date': 1672560295,\n",
       "  'creation_date': 1672560295,\n",
       "  'answer_id': 74973633,\n",
       "  'question_id': 74972467,\n",
       "  'content_license': 'CC BY-SA 4.0'},\n",
       " {'owner': {'account_id': 10907337,\n",
       "   'reputation': 52928,\n",
       "   'user_id': 8017690,\n",
       "   'user_type': 'registered',\n",
       "   'profile_image': 'https://graph.facebook.com/655905051282116/picture?type=large',\n",
       "   'display_name': 'Yong Shun',\n",
       "   'link': 'https://stackoverflow.com/users/8017690/yong-shun'},\n",
       "  'is_accepted': True,\n",
       "  'score': 2,\n",
       "  'last_activity_date': 1672571209,\n",
       "  'last_edit_date': 1672571209,\n",
       "  'creation_date': 1672560300,\n",
       "  'answer_id': 74973635,\n",
       "  'question_id': 74973476,\n",
       "  'content_license': 'CC BY-SA 4.0'},\n",
       " {'owner': {'account_id': 19250591,\n",
       "   'reputation': 21,\n",
       "   'user_id': 14068703,\n",
       "   'user_type': 'registered',\n",
       "   'profile_image': 'https://graph.facebook.com/2589980774600951/picture?type=large',\n",
       "   'display_name': 'J&#244;s&#249;&#229;',\n",
       "   'link': 'https://stackoverflow.com/users/14068703/j%c3%b4s%c3%b9%c3%a5'},\n",
       "  'is_accepted': False,\n",
       "  'score': 0,\n",
       "  'last_activity_date': 1672560380,\n",
       "  'creation_date': 1672560380,\n",
       "  'answer_id': 74973637,\n",
       "  'question_id': 56247086,\n",
       "  'content_license': 'CC BY-SA 4.0'},\n",
       " {'owner': {'account_id': 7322082,\n",
       "   'reputation': 211784,\n",
       "   'user_id': 5577765,\n",
       "   'user_type': 'registered',\n",
       "   'profile_image': 'https://i.sstatic.net/Sxn9i.png?s=256',\n",
       "   'display_name': 'Rabbid76',\n",
       "   'link': 'https://stackoverflow.com/users/5577765/rabbid76'},\n",
       "  'is_accepted': True,\n",
       "  'score': 1,\n",
       "  'last_activity_date': 1672612792,\n",
       "  'last_edit_date': 1672612792,\n",
       "  'creation_date': 1672560387,\n",
       "  'answer_id': 74973638,\n",
       "  'question_id': 74972953,\n",
       "  'content_license': 'CC BY-SA 4.0'},\n",
       " {'owner': {'account_id': 1662483,\n",
       "   'reputation': 812,\n",
       "   'user_id': 1530486,\n",
       "   'user_type': 'registered',\n",
       "   'accept_rate': 29,\n",
       "   'profile_image': 'https://i.sstatic.net/vFrF4.jpg?s=256',\n",
       "   'display_name': 'Truong Hua',\n",
       "   'link': 'https://stackoverflow.com/users/1530486/truong-hua'},\n",
       "  'is_accepted': True,\n",
       "  'score': 2,\n",
       "  'last_activity_date': 1672560541,\n",
       "  'creation_date': 1672560541,\n",
       "  'answer_id': 74973645,\n",
       "  'question_id': 74973545,\n",
       "  'content_license': 'CC BY-SA 4.0'},\n",
       " {'owner': {'account_id': 14715088,\n",
       "   'reputation': 471,\n",
       "   'user_id': 10627282,\n",
       "   'user_type': 'registered',\n",
       "   'profile_image': 'https://i.sstatic.net/DMYkw.jpg?s=256',\n",
       "   'display_name': 'Ratbyte Boss',\n",
       "   'link': 'https://stackoverflow.com/users/10627282/ratbyte-boss'},\n",
       "  'is_accepted': False,\n",
       "  'score': 0,\n",
       "  'last_activity_date': 1672560556,\n",
       "  'creation_date': 1672560556,\n",
       "  'answer_id': 74973646,\n",
       "  'question_id': 74963088,\n",
       "  'content_license': 'CC BY-SA 4.0'}]"
      ]
     },
     "execution_count": 14,
     "metadata": {},
     "output_type": "execute_result"
    }
   ],
   "execution_count": 14
  },
  {
   "cell_type": "markdown",
   "id": "8b5d99a7-b251-46e9-8b0b-9ada918cb3f2",
   "metadata": {},
   "source": [
    "### Save fetched answers\n",
    "``` If MOCK is set as False, API response is saved in the mock_data directory.```"
   ]
  },
  {
   "cell_type": "code",
   "id": "7b27d7d7-aeb7-4534-a584-de0b4da1d15f",
   "metadata": {
    "ExecuteTime": {
     "end_time": "2025-06-26T14:13:32.025190Z",
     "start_time": "2025-06-26T14:13:31.906613Z"
    }
   },
   "source": [
    "\n",
    "if not MOCK:\n",
    "    start_date_string = start_date.__str__().replace(' ', '_').replace(\":\", \"-\")\n",
    "    end_date_string = end_date.__str__().replace(' ', '_').replace(\":\", \"-\")\n",
    "    filename = f\"answers_{start_date_string}_{end_date_string}.json\"\n",
    "    full_path = MOCK_DATA / filename\n",
    "    full_path.write_text(json.dumps(answers, indent=4), encoding='utf-8')\n",
    "    print(f\"File {filename} saved sucessfully.\")"
   ],
   "outputs": [
    {
     "name": "stdout",
     "output_type": "stream",
     "text": [
      "File answers_2025-06-01_00-00-00_2025-07-01_00-00-00.json saved sucessfully.\n"
     ]
    }
   ],
   "execution_count": 9
  },
  {
   "cell_type": "code",
   "id": "176cd187-7d96-4e56-9533-8573c5711737",
   "metadata": {
    "ExecuteTime": {
     "end_time": "2025-06-28T08:31:50.980066Z",
     "start_time": "2025-06-28T08:31:50.976158Z"
    }
   },
   "source": [
    "accepted_answers = [answer for answer in answers if answer.get('is_accepted') == True]"
   ],
   "outputs": [],
   "execution_count": 15
  },
  {
   "cell_type": "code",
   "id": "00c359e8-f886-438a-83ae-68b108bfac48",
   "metadata": {
    "ExecuteTime": {
     "end_time": "2025-06-28T08:31:52.030872Z",
     "start_time": "2025-06-28T08:31:52.025298Z"
    }
   },
   "source": [
    "accepted_answers[:5]"
   ],
   "outputs": [
    {
     "data": {
      "text/plain": [
       "[{'owner': {'account_id': 3176925,\n",
       "   'reputation': 223063,\n",
       "   'user_id': 2684539,\n",
       "   'user_type': 'registered',\n",
       "   'profile_image': 'https://i.sstatic.net/xTMIL.jpg?s=256',\n",
       "   'display_name': 'Jarod42',\n",
       "   'link': 'https://stackoverflow.com/users/2684539/jarod42'},\n",
       "  'is_accepted': True,\n",
       "  'score': 1,\n",
       "  'last_activity_date': 1672560174,\n",
       "  'creation_date': 1672560174,\n",
       "  'answer_id': 74973625,\n",
       "  'question_id': 74973291,\n",
       "  'content_license': 'CC BY-SA 4.0'},\n",
       " {'owner': {'account_id': 1691630,\n",
       "   'reputation': 50940,\n",
       "   'user_id': 1553851,\n",
       "   'user_type': 'registered',\n",
       "   'accept_rate': 73,\n",
       "   'profile_image': 'https://www.gravatar.com/avatar/ad333c218c8f2fb917cf506919fc95f4?s=256&d=identicon&r=PG',\n",
       "   'display_name': 'shmosel',\n",
       "   'link': 'https://stackoverflow.com/users/1553851/shmosel'},\n",
       "  'is_accepted': True,\n",
       "  'score': 3,\n",
       "  'last_activity_date': 1672560176,\n",
       "  'creation_date': 1672560176,\n",
       "  'answer_id': 74973626,\n",
       "  'question_id': 74973566,\n",
       "  'content_license': 'CC BY-SA 4.0'},\n",
       " {'owner': {'account_id': 10907337,\n",
       "   'reputation': 52928,\n",
       "   'user_id': 8017690,\n",
       "   'user_type': 'registered',\n",
       "   'profile_image': 'https://graph.facebook.com/655905051282116/picture?type=large',\n",
       "   'display_name': 'Yong Shun',\n",
       "   'link': 'https://stackoverflow.com/users/8017690/yong-shun'},\n",
       "  'is_accepted': True,\n",
       "  'score': 2,\n",
       "  'last_activity_date': 1672571209,\n",
       "  'last_edit_date': 1672571209,\n",
       "  'creation_date': 1672560300,\n",
       "  'answer_id': 74973635,\n",
       "  'question_id': 74973476,\n",
       "  'content_license': 'CC BY-SA 4.0'},\n",
       " {'owner': {'account_id': 7322082,\n",
       "   'reputation': 211784,\n",
       "   'user_id': 5577765,\n",
       "   'user_type': 'registered',\n",
       "   'profile_image': 'https://i.sstatic.net/Sxn9i.png?s=256',\n",
       "   'display_name': 'Rabbid76',\n",
       "   'link': 'https://stackoverflow.com/users/5577765/rabbid76'},\n",
       "  'is_accepted': True,\n",
       "  'score': 1,\n",
       "  'last_activity_date': 1672612792,\n",
       "  'last_edit_date': 1672612792,\n",
       "  'creation_date': 1672560387,\n",
       "  'answer_id': 74973638,\n",
       "  'question_id': 74972953,\n",
       "  'content_license': 'CC BY-SA 4.0'},\n",
       " {'owner': {'account_id': 1662483,\n",
       "   'reputation': 812,\n",
       "   'user_id': 1530486,\n",
       "   'user_type': 'registered',\n",
       "   'accept_rate': 29,\n",
       "   'profile_image': 'https://i.sstatic.net/vFrF4.jpg?s=256',\n",
       "   'display_name': 'Truong Hua',\n",
       "   'link': 'https://stackoverflow.com/users/1530486/truong-hua'},\n",
       "  'is_accepted': True,\n",
       "  'score': 2,\n",
       "  'last_activity_date': 1672560541,\n",
       "  'creation_date': 1672560541,\n",
       "  'answer_id': 74973645,\n",
       "  'question_id': 74973545,\n",
       "  'content_license': 'CC BY-SA 4.0'}]"
      ]
     },
     "execution_count": 16,
     "metadata": {},
     "output_type": "execute_result"
    }
   ],
   "execution_count": 16
  },
  {
   "cell_type": "code",
   "id": "14b3f9fe-7f4a-41a6-9b45-cd7a52d37c22",
   "metadata": {
    "ExecuteTime": {
     "end_time": "2025-06-28T08:31:52.994729Z",
     "start_time": "2025-06-28T08:31:52.991147Z"
    }
   },
   "source": [
    "print(len(accepted_answers))"
   ],
   "outputs": [
    {
     "name": "stdout",
     "output_type": "stream",
     "text": [
      "5\n"
     ]
    }
   ],
   "execution_count": 17
  },
  {
   "cell_type": "code",
   "id": "3d797fe9-3759-40b7-a82f-4fda6a080b1e",
   "metadata": {
    "ExecuteTime": {
     "end_time": "2025-06-28T08:32:15.626897Z",
     "start_time": "2025-06-28T08:32:15.622995Z"
    }
   },
   "source": "answer_ids = [answer.get('answer_id') for answer in answers][:10]",
   "outputs": [],
   "execution_count": 19
  },
  {
   "cell_type": "code",
   "id": "aabb8738-643c-4f3e-a263-d5653a1393da",
   "metadata": {
    "ExecuteTime": {
     "end_time": "2025-06-28T08:32:16.594358Z",
     "start_time": "2025-06-28T08:32:16.589177Z"
    }
   },
   "source": [
    "len(answer_ids)"
   ],
   "outputs": [
    {
     "data": {
      "text/plain": [
       "10"
      ]
     },
     "execution_count": 20,
     "metadata": {},
     "output_type": "execute_result"
    }
   ],
   "execution_count": 20
  },
  {
   "cell_type": "code",
   "id": "5e69f6ba-7e6f-4daa-bf02-8c1bfd69fbad",
   "metadata": {
    "ExecuteTime": {
     "end_time": "2025-06-26T14:30:28.314678Z",
     "start_time": "2025-06-26T14:30:27.729327Z"
    }
   },
   "source": [
    "MOCK = False\n",
    "if not MOCK:\n",
    "    comments = client.get_comments(answer_ids)\n",
    "else:    \n",
    "    filename = \"comments_2025-06-01-00-00-00_2025-06-05-00-00-00.json\"\n",
    "    full_path = MOCK_DATA / filename\n",
    "    comments = json.loads(full_path.read_text(encoding='utf-8'))\n",
    "    print(f\"Fetched {len(comments)} number of comments\")"
   ],
   "outputs": [],
   "execution_count": 12
  },
  {
   "cell_type": "code",
   "id": "8a15bf15-5f9f-4b20-98b5-54f32a438b48",
   "metadata": {
    "ExecuteTime": {
     "end_time": "2025-06-26T14:30:29.640521Z",
     "start_time": "2025-06-26T14:30:29.632911Z"
    }
   },
   "source": [
    "comments"
   ],
   "outputs": [
    {
     "data": {
      "text/plain": [
       "[{'owner': {'account_id': 30689396,\n",
       "   'reputation': 61,\n",
       "   'user_id': 23529203,\n",
       "   'user_type': 'registered',\n",
       "   'profile_image': 'https://lh3.googleusercontent.com/a/ACg8ocJAKEkxerStUT39qKUujc5kGiuDkVF1S3thiIT5GMVK=k-s256',\n",
       "   'display_name': 'Lorna Watawat',\n",
       "   'link': 'https://stackoverflow.com/users/23529203/lorna-watawat'},\n",
       "  'edited': False,\n",
       "  'score': 0,\n",
       "  'creation_date': 1748876857,\n",
       "  'post_id': 79646993,\n",
       "  'comment_id': 140480638,\n",
       "  'content_license': 'CC BY-SA 4.0'},\n",
       " {'owner': {'account_id': 3894877,\n",
       "   'reputation': 380,\n",
       "   'user_id': 3224196,\n",
       "   'user_type': 'registered',\n",
       "   'accept_rate': 75,\n",
       "   'profile_image': 'https://www.gravatar.com/avatar/d808a0400eb16de7f8cb237be5e48662?s=256&d=identicon&r=PG&f=y&so-version=2',\n",
       "   'display_name': 'Martin',\n",
       "   'link': 'https://stackoverflow.com/users/3224196/martin'},\n",
       "  'edited': False,\n",
       "  'score': 0,\n",
       "  'creation_date': 1748871046,\n",
       "  'post_id': 79646999,\n",
       "  'comment_id': 140479431,\n",
       "  'content_license': 'CC BY-SA 4.0'},\n",
       " {'owner': {'account_id': 3894877,\n",
       "   'reputation': 380,\n",
       "   'user_id': 3224196,\n",
       "   'user_type': 'registered',\n",
       "   'accept_rate': 75,\n",
       "   'profile_image': 'https://www.gravatar.com/avatar/d808a0400eb16de7f8cb237be5e48662?s=256&d=identicon&r=PG&f=y&so-version=2',\n",
       "   'display_name': 'Martin',\n",
       "   'link': 'https://stackoverflow.com/users/3224196/martin'},\n",
       "  'edited': False,\n",
       "  'score': 0,\n",
       "  'creation_date': 1748870814,\n",
       "  'post_id': 79646999,\n",
       "  'comment_id': 140479416,\n",
       "  'content_license': 'CC BY-SA 4.0'},\n",
       " {'owner': {'account_id': 29714679,\n",
       "   'reputation': 1240,\n",
       "   'user_id': 23124734,\n",
       "   'user_type': 'registered',\n",
       "   'profile_image': 'https://i.sstatic.net/Z7phgrmS.jpg?s=256',\n",
       "   'display_name': 'Solt',\n",
       "   'link': 'https://stackoverflow.com/users/23124734/solt'},\n",
       "  'reply_to_user': {'account_id': 38804738,\n",
       "   'reputation': 31,\n",
       "   'user_id': 28961010,\n",
       "   'user_type': 'registered',\n",
       "   'profile_image': 'https://www.gravatar.com/avatar/323e250553bc9b8e88e73b46f674167d?s=256&d=identicon&r=PG&f=y&so-version=2',\n",
       "   'display_name': 'Tat',\n",
       "   'link': 'https://stackoverflow.com/users/28961010/tat'},\n",
       "  'edited': False,\n",
       "  'score': 0,\n",
       "  'creation_date': 1748756462,\n",
       "  'post_id': 79646998,\n",
       "  'comment_id': 140476327,\n",
       "  'content_license': 'CC BY-SA 4.0'},\n",
       " {'owner': {'account_id': 2623160,\n",
       "   'reputation': 96006,\n",
       "   'user_id': 2270762,\n",
       "   'user_type': 'registered',\n",
       "   'accept_rate': 83,\n",
       "   'profile_image': 'https://www.gravatar.com/avatar/f9e8f4b7553d9afb6c8676ebde5b13a5?s=256&d=identicon&r=PG&f=y&so-version=2',\n",
       "   'display_name': 'Thorsten Kettner',\n",
       "   'link': 'https://stackoverflow.com/users/2270762/thorsten-kettner'},\n",
       "  'reply_to_user': {'account_id': 21819,\n",
       "   'reputation': 87083,\n",
       "   'user_id': 53341,\n",
       "   'user_type': 'registered',\n",
       "   'accept_rate': 93,\n",
       "   'profile_image': 'https://i.sstatic.net/98geJ.png?s=256',\n",
       "   'display_name': 'MatBailie',\n",
       "   'link': 'https://stackoverflow.com/users/53341/matbailie'},\n",
       "  'edited': False,\n",
       "  'score': 1,\n",
       "  'creation_date': 1748755273,\n",
       "  'post_id': 79647013,\n",
       "  'comment_id': 140476314,\n",
       "  'content_license': 'CC BY-SA 4.0'},\n",
       " {'owner': {'account_id': 38804738,\n",
       "   'reputation': 31,\n",
       "   'user_id': 28961010,\n",
       "   'user_type': 'registered',\n",
       "   'profile_image': 'https://www.gravatar.com/avatar/323e250553bc9b8e88e73b46f674167d?s=256&d=identicon&r=PG&f=y&so-version=2',\n",
       "   'display_name': 'Tat',\n",
       "   'link': 'https://stackoverflow.com/users/28961010/tat'},\n",
       "  'edited': False,\n",
       "  'score': 0,\n",
       "  'creation_date': 1748741373,\n",
       "  'post_id': 79646998,\n",
       "  'comment_id': 140476097,\n",
       "  'content_license': 'CC BY-SA 4.0'},\n",
       " {'owner': {'account_id': 21819,\n",
       "   'reputation': 87083,\n",
       "   'user_id': 53341,\n",
       "   'user_type': 'registered',\n",
       "   'accept_rate': 93,\n",
       "   'profile_image': 'https://i.sstatic.net/98geJ.png?s=256',\n",
       "   'display_name': 'MatBailie',\n",
       "   'link': 'https://stackoverflow.com/users/53341/matbailie'},\n",
       "  'edited': False,\n",
       "  'score': 0,\n",
       "  'creation_date': 1748731265,\n",
       "  'post_id': 79647013,\n",
       "  'comment_id': 140475914,\n",
       "  'content_license': 'CC BY-SA 4.0'},\n",
       " {'owner': {'account_id': 2336798,\n",
       "   'reputation': 137,\n",
       "   'user_id': 2048945,\n",
       "   'user_type': 'registered',\n",
       "   'accept_rate': 0,\n",
       "   'profile_image': 'https://www.gravatar.com/avatar/fdd31ed3fc5b60a4fed3e2d0acc7e9fe?s=256&d=identicon&r=PG&f=y&so-version=2',\n",
       "   'display_name': 'Alain Weiler',\n",
       "   'link': 'https://stackoverflow.com/users/2048945/alain-weiler'},\n",
       "  'edited': False,\n",
       "  'score': 0,\n",
       "  'creation_date': 1748729577,\n",
       "  'post_id': 79646990,\n",
       "  'comment_id': 140475877,\n",
       "  'content_license': 'CC BY-SA 4.0'}]"
      ]
     },
     "execution_count": 13,
     "metadata": {},
     "output_type": "execute_result"
    }
   ],
   "execution_count": 13
  },
  {
   "cell_type": "markdown",
   "id": "1bdac20e-3084-41ea-8762-2af2ba216fb0",
   "metadata": {},
   "source": [
    "### Some edge cases"
   ]
  },
  {
   "cell_type": "markdown",
   "id": "5f40afc3-c84b-4a4b-bd69-3ad69bdb9c11",
   "metadata": {},
   "source": [
    "#### Empty "
   ]
  },
  {
   "cell_type": "code",
   "execution_count": 12,
   "id": "79fd6815-f4f0-4a00-a770-cff674fbb99e",
   "metadata": {},
   "outputs": [],
   "source": [
    "# Example test for empty results\n",
    "MOCK = False\n",
    "empty_answers = client.get_answers(int(datetime(2000, 1, 1).timestamp()), int(datetime(2000, 1, 2).timestamp()))\n",
    "assert len(empty_answers) == 0, \"Expected no answers for this date range.\"\n",
    "\n",
    "empty_comments = client.get_comments([])\n",
    "assert len(empty_comments) == 0, \"Expected no comments for empty answer IDs.\""
   ]
  },
  {
   "cell_type": "code",
   "execution_count": 13,
   "id": "488642c3-3e78-441d-9b32-96781ee09a07",
   "metadata": {},
   "outputs": [
    {
     "data": {
      "text/plain": [
       "[]"
      ]
     },
     "execution_count": 13,
     "metadata": {},
     "output_type": "execute_result"
    }
   ],
   "source": [
    "\n",
    "empty_answers"
   ]
  },
  {
   "cell_type": "code",
   "execution_count": 14,
   "id": "15a2340a-fb53-4427-bfac-7109c7962f74",
   "metadata": {},
   "outputs": [
    {
     "data": {
      "text/plain": [
       "[]"
      ]
     },
     "execution_count": 14,
     "metadata": {},
     "output_type": "execute_result"
    }
   ],
   "source": [
    "empty_comments"
   ]
  },
  {
   "cell_type": "markdown",
   "id": "15019afc-254b-42be-a317-da6fb3f4b40a",
   "metadata": {},
   "source": [
    "#### Invalid range"
   ]
  },
  {
   "cell_type": "code",
   "execution_count": 15,
   "id": "1fb5af21-ff3f-4999-a4a3-ffbbe19263ef",
   "metadata": {},
   "outputs": [
    {
     "name": "stdout",
     "output_type": "stream",
     "text": [
      "Error fetching data from StackExchange API, url:https://api.stackexchange.com/2.3/answers/-1;0;999999999999/comments, page: 1 : 400 Client Error: Bad Request for url: https://api.stackexchange.com/2.3/answers/-1;0;999999999999/comments?order=asc&sort=creation&site=stackoverflow&page=1\n"
     ]
    }
   ],
   "source": [
    "# Invalid date range\n",
    "invalid_answers = client.get_answers(int(datetime(2025, 6, 5).timestamp()), int(datetime(2025, 6, 1).timestamp()))\n",
    "assert len(invalid_answers) == 0, \"Expected no answers for invalid date range.\"\n",
    "\n",
    "# Invalid answer IDs\n",
    "invalid_comments = client.get_comments([-1, 0, 999999999999])\n",
    "assert len(invalid_comments) == 0, \"Expected no comments for invalid answer IDs.\""
   ]
  },
  {
   "cell_type": "code",
   "execution_count": 16,
   "id": "e62bbd62-2955-4ae5-bbc3-5703b7b412b8",
   "metadata": {},
   "outputs": [
    {
     "data": {
      "text/plain": [
       "[]"
      ]
     },
     "execution_count": 16,
     "metadata": {},
     "output_type": "execute_result"
    }
   ],
   "source": [
    "invalid_answers"
   ]
  },
  {
   "cell_type": "code",
   "execution_count": 17,
   "id": "0f500d2e-0c0f-49fd-8a54-49f1cc88fc8d",
   "metadata": {},
   "outputs": [
    {
     "data": {
      "text/plain": [
       "[]"
      ]
     },
     "execution_count": 17,
     "metadata": {},
     "output_type": "execute_result"
    }
   ],
   "source": [
    "invalid_comments"
   ]
  },
  {
   "cell_type": "markdown",
   "id": "b490b66f-2b08-4f85-a4b9-6ebc178a6fa9",
   "metadata": {},
   "source": [
    "### Statistics computation Schedio"
   ]
  },
  {
   "cell_type": "markdown",
   "id": "5ef8db6e-5f15-4ee1-a11c-fbef56597709",
   "metadata": {},
   "source": [
    "```\n",
    "import time\n",
    "\n",
    "start = time.time()\n",
    "# 1. Initialize counters and a set for unique question IDs\n",
    "counter_of_accepted_answers = 0\n",
    "counter_of_not_accepted_answers = 0\n",
    "sum_accepted_scores = 0\n",
    "distinct_question_ids = set()\n",
    "\n",
    "\n",
    "for answer in answers:\n",
    "    \n",
    "    qid = answer.get('question_id')\n",
    "    if qid and qid not in distinct_question_ids:\n",
    "        distinct_question_ids.add(qid)\n",
    "    \n",
    "    \n",
    "    if answer.get('is_accepted'):\n",
    "        counter_of_accepted_answers += 1\n",
    "        sum_accepted_scores += float(answer.get('score', 0))\n",
    "    else:\n",
    "        counter_of_not_accepted_answers += 1\n",
    "\n",
    "if counter_of_accepted_answers > 0:\n",
    "    avg_score_accepted_answers = sum_accepted_scores / counter_of_accepted_answers\n",
    "else:\n",
    "    avg_score_accepted_answers = 0\n",
    "\n",
    "\n",
    "total_answers = counter_of_accepted_answers + counter_of_not_accepted_answers\n",
    "if len(distinct_question_ids) > 0:\n",
    "    avg_answer_count_per_question = total_answers / len(distinct_question_ids)\n",
    "else:\n",
    "    avg_answer_count_per_question = 0\n",
    "\n",
    "end = time.time()\n",
    "# 6. Print or return the results\n",
    "print(\"Total accepted answers:\", counter_of_accepted_answers)\n",
    "print(\"Average score of accepted answers:\", avg_score_accepted_answers)\n",
    "print(\"Average answer count per question:\", avg_answer_count_per_question)\n",
    "print(\"time elapsed for 5 days range (~2000 records): \", (end - start) * 1000, \"ms\")\n",
    "```"
   ]
  },
  {
   "cell_type": "markdown",
   "id": "2776b13c-7555-460d-8a7e-ffc409d327f0",
   "metadata": {},
   "source": [
    "```\n",
    "start = time.time()\n",
    "top_10_answers = sorted(answers, key=lambda x: x['score'], reverse=True)[:10]\n",
    "end = time.time()\n",
    "print(\"time elapsed for 5 days range (~2000 records): \", (end - start) * 1000, \"ms\")\n",
    "```\n"
   ]
  },
  {
   "cell_type": "code",
   "execution_count": 7,
   "id": "aa1dfa7f-9af5-4e34-9a01-babb2c99d3d2",
   "metadata": {},
   "outputs": [],
   "source": [
    "import requests\n",
    "url = \"https://gist.githubusercontent.com/PanagopoulosGeorge/4a5b2c1304971e502d64a5c1b13248bb/raw/6b748538ebeb137597655514a7dd47547d387f35/gistfile1.txt\"\n",
    "response = requests.get(url)"
   ]
  },
  {
   "cell_type": "code",
   "execution_count": 10,
   "id": "f55f098c-08d8-449f-a896-cf46e6d0afc3",
   "metadata": {},
   "outputs": [
    {
     "data": {
      "text/plain": [
       "[{'owner': {'account_id': 4243,\n",
       "   'reputation': 1344314,\n",
       "   'user_id': 6309,\n",
       "   'user_type': 'registered',\n",
       "   'accept_rate': 100,\n",
       "   'profile_image': 'https://i.sstatic.net/I4fiW.jpg?s=256',\n",
       "   'display_name': 'VonC',\n",
       "   'link': 'https://stackoverflow.com/users/6309/vonc'},\n",
       "  'is_accepted': False,\n",
       "  'score': 0,\n",
       "  'last_activity_date': 1735692049,\n",
       "  'last_edit_date': 1735692049,\n",
       "  'creation_date': 1735689702,\n",
       "  'answer_id': 79320958,\n",
       "  'question_id': 78122228,\n",
       "  'content_license': 'CC BY-SA 4.0'},\n",
       " {'owner': {'account_id': 1573946,\n",
       "   'reputation': 1998,\n",
       "   'user_id': 1460957,\n",
       "   'user_type': 'registered',\n",
       "   'accept_rate': 67,\n",
       "   'profile_image': 'https://www.gravatar.com/avatar/5b3c77fc2586d7740d8fc15bfe23ca56?s=256&d=identicon&r=PG',\n",
       "   'display_name': 'ALZ',\n",
       "   'link': 'https://stackoverflow.com/users/1460957/alz'},\n",
       "  'is_accepted': False,\n",
       "  'score': 0,\n",
       "  'last_activity_date': 1735689796,\n",
       "  'creation_date': 1735689796,\n",
       "  'answer_id': 79320960,\n",
       "  'question_id': 37975366,\n",
       "  'content_license': 'CC BY-SA 4.0'},\n",
       " {'owner': {'account_id': 1144312,\n",
       "   'reputation': 27898,\n",
       "   'user_id': 1127428,\n",
       "   'user_type': 'registered',\n",
       "   'accept_rate': 79,\n",
       "   'profile_image': 'https://i.sstatic.net/pSzU4.jpg?s=256',\n",
       "   'display_name': 'Dale K',\n",
       "   'link': 'https://stackoverflow.com/users/1127428/dale-k'},\n",
       "  'is_accepted': True,\n",
       "  'community_owned_date': 1735689905,\n",
       "  'score': 2,\n",
       "  'last_activity_date': 1736007875,\n",
       "  'last_edit_date': 1736007875,\n",
       "  'creation_date': 1735689905,\n",
       "  'answer_id': 79320962,\n",
       "  'question_id': 79319596,\n",
       "  'content_license': 'CC BY-SA 4.0'},\n",
       " {'owner': {'account_id': 2362723,\n",
       "   'reputation': 307729,\n",
       "   'user_id': 2069064,\n",
       "   'user_type': 'registered',\n",
       "   'accept_rate': 73,\n",
       "   'profile_image': 'https://i.sstatic.net/e4V2X.jpg?s=256',\n",
       "   'display_name': 'Barry',\n",
       "   'link': 'https://stackoverflow.com/users/2069064/barry'},\n",
       "  'is_accepted': True,\n",
       "  'score': 2,\n",
       "  'last_activity_date': 1735689990,\n",
       "  'creation_date': 1735689990,\n",
       "  'answer_id': 79320963,\n",
       "  'question_id': 79314226,\n",
       "  'content_license': 'CC BY-SA 4.0'},\n",
       " {'owner': {'account_id': 6897470,\n",
       "   'reputation': 27952,\n",
       "   'user_id': 5298879,\n",
       "   'user_type': 'registered',\n",
       "   'profile_image': 'https://i.sstatic.net/Qv2LD.png?s=256',\n",
       "   'display_name': 'Zegarek',\n",
       "   'link': 'https://stackoverflow.com/users/5298879/zegarek'},\n",
       "  'is_accepted': False,\n",
       "  'score': 5,\n",
       "  'last_activity_date': 1735811194,\n",
       "  'last_edit_date': 1735811194,\n",
       "  'creation_date': 1735690492,\n",
       "  'answer_id': 79320965,\n",
       "  'question_id': 79320823,\n",
       "  'content_license': 'CC BY-SA 4.0'},\n",
       " {'owner': {'account_id': 8860436,\n",
       "   'reputation': 48826,\n",
       "   'user_id': 7509065,\n",
       "   'user_type': 'registered',\n",
       "   'profile_image': 'https://i.sstatic.net/RZLo7.png?s=256',\n",
       "   'display_name': 'Joseph Sible-Reinstate Monica',\n",
       "   'link': 'https://stackoverflow.com/users/7509065/joseph-sible-reinstate-monica'},\n",
       "  'is_accepted': False,\n",
       "  'score': 0,\n",
       "  'last_activity_date': 1735691227,\n",
       "  'creation_date': 1735691227,\n",
       "  'answer_id': 79320967,\n",
       "  'question_id': 79320938,\n",
       "  'content_license': 'CC BY-SA 4.0'},\n",
       " {'owner': {'account_id': 3427552,\n",
       "   'reputation': 61152,\n",
       "   'user_id': 2872922,\n",
       "   'user_type': 'registered',\n",
       "   'accept_rate': 54,\n",
       "   'profile_image': 'https://www.gravatar.com/avatar/4257c015355b635d52215836a6684a71?s=256&d=identicon&r=PG&f=y&so-version=2',\n",
       "   'display_name': 'Ron Rosenfeld',\n",
       "   'link': 'https://stackoverflow.com/users/2872922/ron-rosenfeld'},\n",
       "  'is_accepted': True,\n",
       "  'score': 1,\n",
       "  'last_activity_date': 1735691400,\n",
       "  'creation_date': 1735691400,\n",
       "  'answer_id': 79320970,\n",
       "  'question_id': 79320194,\n",
       "  'content_license': 'CC BY-SA 4.0'},\n",
       " {'owner': {'account_id': 18476992,\n",
       "   'reputation': 31,\n",
       "   'user_id': 13460253,\n",
       "   'user_type': 'registered',\n",
       "   'profile_image': 'https://lh3.googleusercontent.com/a-/AOh14Giyd_G_HPZJBpT5q4wdxV77l_NFRrOenivpQjbUrQ=k-s256',\n",
       "   'display_name': 'Dave Andrea',\n",
       "   'link': 'https://stackoverflow.com/users/13460253/dave-andrea'},\n",
       "  'is_accepted': False,\n",
       "  'score': 0,\n",
       "  'last_activity_date': 1735691624,\n",
       "  'creation_date': 1735691624,\n",
       "  'answer_id': 79320972,\n",
       "  'question_id': 79307888,\n",
       "  'content_license': 'CC BY-SA 4.0'},\n",
       " {'owner': {'account_id': 3280272,\n",
       "   'reputation': 609,\n",
       "   'user_id': 2761038,\n",
       "   'user_type': 'registered',\n",
       "   'accept_rate': 90,\n",
       "   'profile_image': 'https://i.sstatic.net/gnTlw.png?s=256',\n",
       "   'display_name': 'John',\n",
       "   'link': 'https://stackoverflow.com/users/2761038/john'},\n",
       "  'is_accepted': True,\n",
       "  'score': 0,\n",
       "  'last_activity_date': 1735692827,\n",
       "  'last_edit_date': 1735692827,\n",
       "  'creation_date': 1735691708,\n",
       "  'answer_id': 79320977,\n",
       "  'question_id': 79297386,\n",
       "  'content_license': 'CC BY-SA 4.0'},\n",
       " {'owner': {'account_id': 431598,\n",
       "   'reputation': 384,\n",
       "   'user_id': 815772,\n",
       "   'user_type': 'registered',\n",
       "   'profile_image': 'https://www.gravatar.com/avatar/48585316db7fd0688a4a061a01f30be8?s=256&d=identicon&r=PG&f=y&so-version=2',\n",
       "   'display_name': 'bluegreen',\n",
       "   'link': 'https://stackoverflow.com/users/815772/bluegreen'},\n",
       "  'is_accepted': False,\n",
       "  'score': 0,\n",
       "  'last_activity_date': 1735691725,\n",
       "  'creation_date': 1735691725,\n",
       "  'answer_id': 79320978,\n",
       "  'question_id': 78226220,\n",
       "  'content_license': 'CC BY-SA 4.0'},\n",
       " {'owner': {'account_id': 6816794,\n",
       "   'reputation': 723,\n",
       "   'user_id': 6332554,\n",
       "   'user_type': 'registered',\n",
       "   'profile_image': 'https://www.gravatar.com/avatar/71e95dd8ae5da144530db27e6dd34384?s=256&d=identicon&r=PG&f=y&so-version=2',\n",
       "   'display_name': 'Shaheed Haque',\n",
       "   'link': 'https://stackoverflow.com/users/6332554/shaheed-haque'},\n",
       "  'is_accepted': False,\n",
       "  'score': 0,\n",
       "  'last_activity_date': 1735692641,\n",
       "  'creation_date': 1735692641,\n",
       "  'answer_id': 79320988,\n",
       "  'question_id': 75530880,\n",
       "  'content_license': 'CC BY-SA 4.0'},\n",
       " {'owner': {'account_id': 5010108,\n",
       "   'reputation': 1950,\n",
       "   'user_id': 4026629,\n",
       "   'user_type': 'registered',\n",
       "   'profile_image': 'https://www.gravatar.com/avatar/63b65c810a1b594e7cf2db3e5a33be91?s=256&d=identicon&r=PG&f=y&so-version=2',\n",
       "   'display_name': 'JL_SO',\n",
       "   'link': 'https://stackoverflow.com/users/4026629/jl-so'},\n",
       "  'is_accepted': False,\n",
       "  'score': 0,\n",
       "  'last_activity_date': 1735692654,\n",
       "  'creation_date': 1735692654,\n",
       "  'answer_id': 79320989,\n",
       "  'question_id': 78845862,\n",
       "  'content_license': 'CC BY-SA 4.0'},\n",
       " {'owner': {'account_id': 3226791,\n",
       "   'reputation': 16997,\n",
       "   'user_id': 2722968,\n",
       "   'user_type': 'registered',\n",
       "   'accept_rate': 50,\n",
       "   'profile_image': 'https://www.gravatar.com/avatar/bf91f4fc540564eda607c7c30d4491ca?s=256&d=identicon&r=PG&f=y&so-version=2',\n",
       "   'display_name': 'user2722968',\n",
       "   'link': 'https://stackoverflow.com/users/2722968/user2722968'},\n",
       "  'is_accepted': True,\n",
       "  'score': 7,\n",
       "  'last_activity_date': 1735692724,\n",
       "  'creation_date': 1735692724,\n",
       "  'answer_id': 79320992,\n",
       "  'question_id': 79320968,\n",
       "  'content_license': 'CC BY-SA 4.0'},\n",
       " {'owner': {'account_id': 7041953,\n",
       "   'reputation': 256,\n",
       "   'user_id': 22595851,\n",
       "   'user_type': 'registered',\n",
       "   'profile_image': 'https://lh5.googleusercontent.com/-mGIwmZDcWfY/AAAAAAAAAAI/AAAAAAAAASA/aT_YdR4K_4s/s256-rj/photo.jpg',\n",
       "   'display_name': 'Seamus',\n",
       "   'link': 'https://stackoverflow.com/users/22595851/seamus'},\n",
       "  'is_accepted': False,\n",
       "  'score': 0,\n",
       "  'last_activity_date': 1735692878,\n",
       "  'creation_date': 1735692878,\n",
       "  'answer_id': 79320995,\n",
       "  'question_id': 2514270,\n",
       "  'content_license': 'CC BY-SA 4.0'},\n",
       " {'owner': {'account_id': 64461,\n",
       "   'reputation': 229277,\n",
       "   'user_id': 190277,\n",
       "   'user_type': 'registered',\n",
       "   'accept_rate': 94,\n",
       "   'profile_image': 'https://www.gravatar.com/avatar/dcf9672c1893e4b7c5d86ca1bc2bf88f?s=256&d=identicon&r=PG',\n",
       "   'display_name': 'Ben Bolker',\n",
       "   'link': 'https://stackoverflow.com/users/190277/ben-bolker'},\n",
       "  'is_accepted': True,\n",
       "  'score': 1,\n",
       "  'last_activity_date': 1735692992,\n",
       "  'creation_date': 1735692992,\n",
       "  'answer_id': 79320999,\n",
       "  'question_id': 79248613,\n",
       "  'content_license': 'CC BY-SA 4.0'},\n",
       " {'owner': {'account_id': 270104,\n",
       "   'reputation': 20046,\n",
       "   'user_id': 559850,\n",
       "   'user_type': 'registered',\n",
       "   'accept_rate': 94,\n",
       "   'profile_image': 'https://i.sstatic.net/HSwwDoOy.jpg?s=256',\n",
       "   'display_name': 'Tyler',\n",
       "   'link': 'https://stackoverflow.com/users/559850/tyler'},\n",
       "  'is_accepted': False,\n",
       "  'score': 0,\n",
       "  'last_activity_date': 1735693751,\n",
       "  'creation_date': 1735693751,\n",
       "  'answer_id': 79321017,\n",
       "  'question_id': 70658926,\n",
       "  'content_license': 'CC BY-SA 4.0'},\n",
       " {'owner': {'account_id': 2081644,\n",
       "   'reputation': 25557,\n",
       "   'user_id': 1853523,\n",
       "   'user_type': 'registered',\n",
       "   'profile_image': 'https://www.gravatar.com/avatar/b62de615d0724ae7f06d791aa6fd3204?s=256&d=identicon&r=PG&f=y&so-version=2',\n",
       "   'display_name': 'gasman',\n",
       "   'link': 'https://stackoverflow.com/users/1853523/gasman'},\n",
       "  'is_accepted': True,\n",
       "  'score': 0,\n",
       "  'last_activity_date': 1735693999,\n",
       "  'creation_date': 1735693999,\n",
       "  'answer_id': 79321024,\n",
       "  'question_id': 79321004,\n",
       "  'content_license': 'CC BY-SA 4.0'},\n",
       " {'owner': {'account_id': 37833811,\n",
       "   'reputation': 21,\n",
       "   'user_id': 28452189,\n",
       "   'user_type': 'registered',\n",
       "   'profile_image': 'https://www.gravatar.com/avatar/42cb893132f083cca9af56abdedbcc6c?s=256&d=identicon&r=PG&f=y&so-version=2',\n",
       "   'display_name': 'Matthews Paul',\n",
       "   'link': 'https://stackoverflow.com/users/28452189/matthews-paul'},\n",
       "  'is_accepted': False,\n",
       "  'score': 0,\n",
       "  'last_activity_date': 1735694808,\n",
       "  'creation_date': 1735694808,\n",
       "  'answer_id': 79321031,\n",
       "  'question_id': 79320883,\n",
       "  'content_license': 'CC BY-SA 4.0'},\n",
       " {'owner': {'account_id': 28783703,\n",
       "   'reputation': 788,\n",
       "   'user_id': 22044724,\n",
       "   'user_type': 'registered',\n",
       "   'profile_image': 'https://lh3.googleusercontent.com/a/AAcHTtcCO78tCqyXwPe7y674s3J61CdX9BNSG-U8Nrm_=k-s256',\n",
       "   'display_name': 'BobS',\n",
       "   'link': 'https://stackoverflow.com/users/22044724/bobs'},\n",
       "  'is_accepted': True,\n",
       "  'score': 0,\n",
       "  'last_activity_date': 1735695374,\n",
       "  'last_edit_date': 1735695374,\n",
       "  'creation_date': 1735695001,\n",
       "  'answer_id': 79321037,\n",
       "  'question_id': 79320101,\n",
       "  'content_license': 'CC BY-SA 4.0'},\n",
       " {'owner': {'account_id': 11420868,\n",
       "   'reputation': 593,\n",
       "   'user_id': 8372412,\n",
       "   'user_type': 'registered',\n",
       "   'profile_image': 'https://i.sstatic.net/jtb0e42F.png?s=256',\n",
       "   'display_name': 'Walulya francis',\n",
       "   'link': 'https://stackoverflow.com/users/8372412/walulya-francis'},\n",
       "  'is_accepted': False,\n",
       "  'score': 0,\n",
       "  'last_activity_date': 1735695608,\n",
       "  'last_edit_date': 1735695608,\n",
       "  'creation_date': 1735695207,\n",
       "  'answer_id': 79321039,\n",
       "  'question_id': 74638616,\n",
       "  'content_license': 'CC BY-SA 4.0'},\n",
       " {'owner': {'account_id': 15144230,\n",
       "   'reputation': 6962,\n",
       "   'user_id': 10928439,\n",
       "   'user_type': 'registered',\n",
       "   'profile_image': 'https://www.gravatar.com/avatar/ede5fd9e9ee4f6c685b19960d57ada05?s=256&d=identicon&r=PG&f=y&so-version=2',\n",
       "   'display_name': 'Simon Jacobs',\n",
       "   'link': 'https://stackoverflow.com/users/10928439/simon-jacobs'},\n",
       "  'is_accepted': False,\n",
       "  'score': 0,\n",
       "  'last_activity_date': 1735695219,\n",
       "  'creation_date': 1735695219,\n",
       "  'answer_id': 79321040,\n",
       "  'question_id': 79320349,\n",
       "  'content_license': 'CC BY-SA 4.0'},\n",
       " {'owner': {'account_id': 13449268,\n",
       "   'reputation': 1062,\n",
       "   'user_id': 10037278,\n",
       "   'user_type': 'registered',\n",
       "   'profile_image': 'https://i.sstatic.net/QcLYL.jpg?s=256',\n",
       "   'display_name': 'Onat Korucu',\n",
       "   'link': 'https://stackoverflow.com/users/10037278/onat-korucu'},\n",
       "  'is_accepted': False,\n",
       "  'score': 0,\n",
       "  'last_activity_date': 1735695894,\n",
       "  'creation_date': 1735695894,\n",
       "  'answer_id': 79321045,\n",
       "  'question_id': 66366582,\n",
       "  'content_license': 'CC BY-SA 4.0'},\n",
       " {'owner': {'account_id': 16413815,\n",
       "   'reputation': 31,\n",
       "   'user_id': 11856439,\n",
       "   'user_type': 'registered',\n",
       "   'profile_image': 'https://lh5.googleusercontent.com/-5Aoxq60aiUI/AAAAAAAAAAI/AAAAAAAAAAA/ACHi3reRG6lzS-coqMfyl6hxuB-13x76rw/s256-rj/photo.jpg',\n",
       "   'display_name': 'Chuong Lac',\n",
       "   'link': 'https://stackoverflow.com/users/11856439/chuong-lac'},\n",
       "  'is_accepted': False,\n",
       "  'score': 0,\n",
       "  'last_activity_date': 1735696107,\n",
       "  'creation_date': 1735696107,\n",
       "  'answer_id': 79321048,\n",
       "  'question_id': 77549848,\n",
       "  'content_license': 'CC BY-SA 4.0'},\n",
       " {'owner': {'account_id': 16817262,\n",
       "   'reputation': 104582,\n",
       "   'user_id': 12158757,\n",
       "   'user_type': 'registered',\n",
       "   'profile_image': 'https://i.sstatic.net/jbNmb.png?s=256',\n",
       "   'display_name': 'ThomasIsCoding',\n",
       "   'link': 'https://stackoverflow.com/users/12158757/thomasiscoding'},\n",
       "  'is_accepted': False,\n",
       "  'score': 2,\n",
       "  'last_activity_date': 1735696177,\n",
       "  'creation_date': 1735696177,\n",
       "  'answer_id': 79321049,\n",
       "  'question_id': 79321041,\n",
       "  'content_license': 'CC BY-SA 4.0'},\n",
       " {'owner': {'account_id': 30087109,\n",
       "   'reputation': 1,\n",
       "   'user_id': 23057333,\n",
       "   'user_type': 'registered',\n",
       "   'profile_image': 'https://www.gravatar.com/avatar/70eef7dc869b66f9847400834bddf676?s=256&d=identicon&r=PG&f=y&so-version=2',\n",
       "   'display_name': 'Flazz the Programmer',\n",
       "   'link': 'https://stackoverflow.com/users/23057333/flazz-the-programmer'},\n",
       "  'is_accepted': False,\n",
       "  'score': 0,\n",
       "  'last_activity_date': 1735696318,\n",
       "  'creation_date': 1735696318,\n",
       "  'answer_id': 79321053,\n",
       "  'question_id': 66891372,\n",
       "  'content_license': 'CC BY-SA 4.0'},\n",
       " {'owner': {'account_id': 9067213,\n",
       "   'reputation': 27930,\n",
       "   'user_id': 6751634,\n",
       "   'user_type': 'registered',\n",
       "   'profile_image': 'https://i.sstatic.net/kjSAI.jpg?s=256',\n",
       "   'display_name': 'Fei Han',\n",
       "   'link': 'https://stackoverflow.com/users/6751634/fei-han'},\n",
       "  'is_accepted': True,\n",
       "  'score': 0,\n",
       "  'last_activity_date': 1735696385,\n",
       "  'creation_date': 1735696385,\n",
       "  'answer_id': 79321056,\n",
       "  'question_id': 79299007,\n",
       "  'content_license': 'CC BY-SA 4.0'},\n",
       " {'owner': {'account_id': 26265208,\n",
       "   'reputation': 122,\n",
       "   'user_id': 19935868,\n",
       "   'user_type': 'registered',\n",
       "   'profile_image': 'https://www.gravatar.com/avatar/fecd3fc6e1b77082f7bf3d7fd13109eb?s=256&d=identicon&r=PG',\n",
       "   'display_name': 'K.Sx0000',\n",
       "   'link': 'https://stackoverflow.com/users/19935868/k-sx0000'},\n",
       "  'is_accepted': True,\n",
       "  'score': 0,\n",
       "  'last_activity_date': 1735938114,\n",
       "  'last_edit_date': 1735938114,\n",
       "  'creation_date': 1735696596,\n",
       "  'answer_id': 79321059,\n",
       "  'question_id': 79319637,\n",
       "  'content_license': 'CC BY-SA 4.0'},\n",
       " {'owner': {'account_id': 28883687,\n",
       "   'reputation': 397,\n",
       "   'user_id': 22122600,\n",
       "   'user_type': 'registered',\n",
       "   'profile_image': 'https://lh3.googleusercontent.com/a/AAcHTtfXDkAe4KPH8UGeU_YvchCVNBtpyRqFhl4egNts=k-s256',\n",
       "   'display_name': 'Thornsider3',\n",
       "   'link': 'https://stackoverflow.com/users/22122600/thornsider3'},\n",
       "  'is_accepted': False,\n",
       "  'score': 2,\n",
       "  'last_activity_date': 1735930850,\n",
       "  'last_edit_date': 1735930850,\n",
       "  'creation_date': 1735696887,\n",
       "  'answer_id': 79321061,\n",
       "  'question_id': 79314226,\n",
       "  'content_license': 'CC BY-SA 4.0'},\n",
       " {'owner': {'account_id': 23245662,\n",
       "   'reputation': 481,\n",
       "   'user_id': 17334287,\n",
       "   'user_type': 'registered',\n",
       "   'profile_image': 'https://www.gravatar.com/avatar/6a35557429b2edb736be4418ffc772a2?s=256&d=identicon&r=PG',\n",
       "   'display_name': 'Jiachen Li-MSFT',\n",
       "   'link': 'https://stackoverflow.com/users/17334287/jiachen-li-msft'},\n",
       "  'is_accepted': False,\n",
       "  'score': 0,\n",
       "  'last_activity_date': 1735697054,\n",
       "  'creation_date': 1735697054,\n",
       "  'answer_id': 79321062,\n",
       "  'question_id': 79238340,\n",
       "  'content_license': 'CC BY-SA 4.0'},\n",
       " {'owner': {'account_id': 262097,\n",
       "   'reputation': 186947,\n",
       "   'user_id': 546730,\n",
       "   'user_type': 'registered',\n",
       "   'accept_rate': 81,\n",
       "   'profile_image': 'https://i.sstatic.net/4T5MB.png?s=256',\n",
       "   'display_name': 'brunnerh',\n",
       "   'link': 'https://stackoverflow.com/users/546730/brunnerh'},\n",
       "  'is_accepted': True,\n",
       "  'score': 2,\n",
       "  'last_activity_date': 1735697225,\n",
       "  'creation_date': 1735697225,\n",
       "  'answer_id': 79321065,\n",
       "  'question_id': 79320689,\n",
       "  'content_license': 'CC BY-SA 4.0'}]"
      ]
     },
     "execution_count": 10,
     "metadata": {},
     "output_type": "execute_result"
    }
   ],
   "source": [
    "response.json()['items']"
   ]
  },
  {
   "cell_type": "code",
   "id": "0b76b6f8-fd88-44fe-8ff3-621222bf52aa",
   "metadata": {
    "ExecuteTime": {
     "end_time": "2025-06-28T08:34:31.611767Z",
     "start_time": "2025-06-28T08:34:31.609221Z"
    }
   },
   "source": "print(since)",
   "outputs": [
    {
     "name": "stdout",
     "output_type": "stream",
     "text": [
      "1672560000\n"
     ]
    }
   ],
   "execution_count": 21
  },
  {
   "metadata": {
    "ExecuteTime": {
     "end_time": "2025-06-28T08:34:34.247657Z",
     "start_time": "2025-06-28T08:34:34.245242Z"
    }
   },
   "cell_type": "code",
   "source": "print(until)",
   "id": "7d6b9a351901503d",
   "outputs": [
    {
     "name": "stdout",
     "output_type": "stream",
     "text": [
      "1672560600\n"
     ]
    }
   ],
   "execution_count": 22
  },
  {
   "metadata": {
    "ExecuteTime": {
     "end_time": "2025-06-28T08:36:49.281642Z",
     "start_time": "2025-06-28T08:36:49.274217Z"
    }
   },
   "cell_type": "code",
   "source": "accepted_answers",
   "id": "75e042ade39f040d",
   "outputs": [
    {
     "data": {
      "text/plain": [
       "[{'owner': {'account_id': 3176925,\n",
       "   'reputation': 223063,\n",
       "   'user_id': 2684539,\n",
       "   'user_type': 'registered',\n",
       "   'profile_image': 'https://i.sstatic.net/xTMIL.jpg?s=256',\n",
       "   'display_name': 'Jarod42',\n",
       "   'link': 'https://stackoverflow.com/users/2684539/jarod42'},\n",
       "  'is_accepted': True,\n",
       "  'score': 1,\n",
       "  'last_activity_date': 1672560174,\n",
       "  'creation_date': 1672560174,\n",
       "  'answer_id': 74973625,\n",
       "  'question_id': 74973291,\n",
       "  'content_license': 'CC BY-SA 4.0'},\n",
       " {'owner': {'account_id': 1691630,\n",
       "   'reputation': 50940,\n",
       "   'user_id': 1553851,\n",
       "   'user_type': 'registered',\n",
       "   'accept_rate': 73,\n",
       "   'profile_image': 'https://www.gravatar.com/avatar/ad333c218c8f2fb917cf506919fc95f4?s=256&d=identicon&r=PG',\n",
       "   'display_name': 'shmosel',\n",
       "   'link': 'https://stackoverflow.com/users/1553851/shmosel'},\n",
       "  'is_accepted': True,\n",
       "  'score': 3,\n",
       "  'last_activity_date': 1672560176,\n",
       "  'creation_date': 1672560176,\n",
       "  'answer_id': 74973626,\n",
       "  'question_id': 74973566,\n",
       "  'content_license': 'CC BY-SA 4.0'},\n",
       " {'owner': {'account_id': 10907337,\n",
       "   'reputation': 52928,\n",
       "   'user_id': 8017690,\n",
       "   'user_type': 'registered',\n",
       "   'profile_image': 'https://graph.facebook.com/655905051282116/picture?type=large',\n",
       "   'display_name': 'Yong Shun',\n",
       "   'link': 'https://stackoverflow.com/users/8017690/yong-shun'},\n",
       "  'is_accepted': True,\n",
       "  'score': 2,\n",
       "  'last_activity_date': 1672571209,\n",
       "  'last_edit_date': 1672571209,\n",
       "  'creation_date': 1672560300,\n",
       "  'answer_id': 74973635,\n",
       "  'question_id': 74973476,\n",
       "  'content_license': 'CC BY-SA 4.0'},\n",
       " {'owner': {'account_id': 7322082,\n",
       "   'reputation': 211784,\n",
       "   'user_id': 5577765,\n",
       "   'user_type': 'registered',\n",
       "   'profile_image': 'https://i.sstatic.net/Sxn9i.png?s=256',\n",
       "   'display_name': 'Rabbid76',\n",
       "   'link': 'https://stackoverflow.com/users/5577765/rabbid76'},\n",
       "  'is_accepted': True,\n",
       "  'score': 1,\n",
       "  'last_activity_date': 1672612792,\n",
       "  'last_edit_date': 1672612792,\n",
       "  'creation_date': 1672560387,\n",
       "  'answer_id': 74973638,\n",
       "  'question_id': 74972953,\n",
       "  'content_license': 'CC BY-SA 4.0'},\n",
       " {'owner': {'account_id': 1662483,\n",
       "   'reputation': 812,\n",
       "   'user_id': 1530486,\n",
       "   'user_type': 'registered',\n",
       "   'accept_rate': 29,\n",
       "   'profile_image': 'https://i.sstatic.net/vFrF4.jpg?s=256',\n",
       "   'display_name': 'Truong Hua',\n",
       "   'link': 'https://stackoverflow.com/users/1530486/truong-hua'},\n",
       "  'is_accepted': True,\n",
       "  'score': 2,\n",
       "  'last_activity_date': 1672560541,\n",
       "  'creation_date': 1672560541,\n",
       "  'answer_id': 74973645,\n",
       "  'question_id': 74973545,\n",
       "  'content_license': 'CC BY-SA 4.0'}]"
      ]
     },
     "execution_count": 25,
     "metadata": {},
     "output_type": "execute_result"
    }
   ],
   "execution_count": 25
  },
  {
   "metadata": {},
   "cell_type": "code",
   "outputs": [],
   "execution_count": null,
   "source": "",
   "id": "47d434ba952a4236"
  }
 ],
 "metadata": {
  "kernelspec": {
   "display_name": "Python 3 (ipykernel)",
   "language": "python",
   "name": "python3"
  },
  "language_info": {
   "codemirror_mode": {
    "name": "ipython",
    "version": 3
   },
   "file_extension": ".py",
   "mimetype": "text/x-python",
   "name": "python",
   "nbconvert_exporter": "python",
   "pygments_lexer": "ipython3",
   "version": "3.9.6"
  }
 },
 "nbformat": 4,
 "nbformat_minor": 5
}
