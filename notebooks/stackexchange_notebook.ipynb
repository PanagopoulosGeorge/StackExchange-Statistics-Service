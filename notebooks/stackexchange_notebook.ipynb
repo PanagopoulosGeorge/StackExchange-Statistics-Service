{
 "cells": [
  {
   "cell_type": "code",
   "execution_count": 1,
   "id": "a89cf440-584e-45a1-bcc4-eb46fb2c500e",
   "metadata": {},
   "outputs": [
    {
     "name": "stdout",
     "output_type": "stream",
     "text": [
      "Applied nest_asyncio patch for Jupyter compatibility\n",
      "Changed working directory to: C:\\Users\\gepanago\\PycharmProjects\\stack-exchange\\StackExchange-Statistics-Service\\src\n"
     ]
    }
   ],
   "source": [
    "import setup  # notebooks/setup.py\n",
    "setup.init(verbose = True)"
   ]
  },
  {
   "cell_type": "code",
   "execution_count": 2,
   "id": "7c596b57-df86-4a1c-b0e6-d09f21860303",
   "metadata": {},
   "outputs": [],
   "source": [
    "from datetime import datetime\n",
    "from app.components.stackexchange import StackExchangeClient\n",
    "import json\n",
    "from pathlib import Path\n",
    "MOCK = False\n",
    "MOCK_DATA = Path('mock_data')"
   ]
  },
  {
   "cell_type": "code",
   "execution_count": 6,
   "id": "20f28d9f-4a33-4571-8992-45c9e50fdac4",
   "metadata": {},
   "outputs": [
    {
     "name": "stdout",
     "output_type": "stream",
     "text": [
      "Fetched 2450 number of answers\n"
     ]
    }
   ],
   "source": [
    "client = StackExchangeClient()\n",
    "if not MOCK:\n",
    "    ##\n",
    "    start_date = datetime(2025, 1, 1)\n",
    "    end_date = datetime(2025, 1, 4)\n",
    "    ##\n",
    "    since = int(start_date.timestamp())\n",
    "    until = int(end_date.timestamp())\n",
    "    answers = client.get_answers(since, until)\n",
    "else:\n",
    "    filename = \"answers_2025-06-01-00-00-00_2025-06-05-00-00-00.json\"\n",
    "    full_path = MOCK_DATA / filename\n",
    "    answers = json.loads(full_path.read_text(encoding='utf-8'))\n",
    "print(f\"Fetched {len(answers)} number of answers\")\n"
   ]
  },
  {
   "cell_type": "markdown",
   "id": "8b5d99a7-b251-46e9-8b0b-9ada918cb3f2",
   "metadata": {},
   "source": [
    "### Save fetched answers\n",
    "``` If MOCK is set as False, API response is saved in the mock_data directory.```"
   ]
  },
  {
   "cell_type": "code",
   "execution_count": 9,
   "id": "7b27d7d7-aeb7-4534-a584-de0b4da1d15f",
   "metadata": {},
   "outputs": [
    {
     "name": "stdout",
     "output_type": "stream",
     "text": [
      "File answers_2025-01-01_00-00-00_2025-01-04_00-00-00.json saved sucessfully.\n"
     ]
    }
   ],
   "source": [
    "\n",
    "if not MOCK:\n",
    "    start_date_string = start_date.__str__().replace(' ', '_').replace(\":\", \"-\")\n",
    "    end_date_string = end_date.__str__().replace(' ', '_').replace(\":\", \"-\")\n",
    "    filename = f\"answers_{start_date_string}_{end_date_string}.json\"\n",
    "    full_path = MOCK_DATA / filename\n",
    "    full_path.write_text(json.dumps(answers, indent=4), encoding='utf-8')\n",
    "    print(f\"File {filename} saved sucessfully.\")"
   ]
  },
  {
   "cell_type": "code",
   "execution_count": 10,
   "id": "176cd187-7d96-4e56-9533-8573c5711737",
   "metadata": {},
   "outputs": [],
   "source": [
    "accepted_answers = [answer for answer in answers if answer.get('is_accepted') == True]"
   ]
  },
  {
   "cell_type": "code",
   "execution_count": null,
   "id": "00c359e8-f886-438a-83ae-68b108bfac48",
   "metadata": {},
   "outputs": [],
   "source": [
    "accepted_answers[:5]"
   ]
  },
  {
   "cell_type": "code",
   "execution_count": 12,
   "id": "14b3f9fe-7f4a-41a6-9b45-cd7a52d37c22",
   "metadata": {},
   "outputs": [
    {
     "name": "stdout",
     "output_type": "stream",
     "text": [
      "547\n"
     ]
    }
   ],
   "source": [
    "print(len(accepted_answers))"
   ]
  },
  {
   "cell_type": "code",
   "execution_count": 13,
   "id": "3d797fe9-3759-40b7-a82f-4fda6a080b1e",
   "metadata": {},
   "outputs": [],
   "source": [
    "answer_ids = [answer.get('answer_id') for answer in answers]"
   ]
  },
  {
   "cell_type": "code",
   "execution_count": 14,
   "id": "aabb8738-643c-4f3e-a263-d5653a1393da",
   "metadata": {},
   "outputs": [
    {
     "data": {
      "text/plain": [
       "2450"
      ]
     },
     "execution_count": 14,
     "metadata": {},
     "output_type": "execute_result"
    }
   ],
   "source": [
    "len(answer_ids)"
   ]
  },
  {
   "cell_type": "code",
   "execution_count": 10,
   "id": "5e69f6ba-7e6f-4daa-bf02-8c1bfd69fbad",
   "metadata": {},
   "outputs": [
    {
     "name": "stdout",
     "output_type": "stream",
     "text": [
      "Fetched 4 number of comments\n"
     ]
    }
   ],
   "source": [
    "# if not MOCK:\n",
    "#     comments = client.get_comments(answer_ids)\n",
    "# else:    \n",
    "#     filename = \"comments_2025-06-01-00-00-00_2025-06-05-00-00-00.json\"\n",
    "#     full_path = MOCK_DATA / filename\n",
    "#     comments = json.loads(full_path.read_text(encoding='utf-8'))\n",
    "#     print(f\"Fetched {len(comments)} number of comments\")"
   ]
  },
  {
   "cell_type": "code",
   "execution_count": 11,
   "id": "8a15bf15-5f9f-4b20-98b5-54f32a438b48",
   "metadata": {},
   "outputs": [
    {
     "data": {
      "text/plain": [
       "4"
      ]
     },
     "execution_count": 11,
     "metadata": {},
     "output_type": "execute_result"
    }
   ],
   "source": [
    "len(comments)"
   ]
  },
  {
   "cell_type": "markdown",
   "id": "1bdac20e-3084-41ea-8762-2af2ba216fb0",
   "metadata": {},
   "source": [
    "### Some edge cases"
   ]
  },
  {
   "cell_type": "markdown",
   "id": "5f40afc3-c84b-4a4b-bd69-3ad69bdb9c11",
   "metadata": {},
   "source": [
    "#### Empty "
   ]
  },
  {
   "cell_type": "code",
   "execution_count": 12,
   "id": "79fd6815-f4f0-4a00-a770-cff674fbb99e",
   "metadata": {},
   "outputs": [],
   "source": [
    "# Example test for empty results\n",
    "MOCK = False\n",
    "empty_answers = client.get_answers(int(datetime(2000, 1, 1).timestamp()), int(datetime(2000, 1, 2).timestamp()))\n",
    "assert len(empty_answers) == 0, \"Expected no answers for this date range.\"\n",
    "\n",
    "empty_comments = client.get_comments([])\n",
    "assert len(empty_comments) == 0, \"Expected no comments for empty answer IDs.\""
   ]
  },
  {
   "cell_type": "code",
   "execution_count": 13,
   "id": "488642c3-3e78-441d-9b32-96781ee09a07",
   "metadata": {},
   "outputs": [
    {
     "data": {
      "text/plain": [
       "[]"
      ]
     },
     "execution_count": 13,
     "metadata": {},
     "output_type": "execute_result"
    }
   ],
   "source": [
    "\n",
    "empty_answers"
   ]
  },
  {
   "cell_type": "code",
   "execution_count": 14,
   "id": "15a2340a-fb53-4427-bfac-7109c7962f74",
   "metadata": {},
   "outputs": [
    {
     "data": {
      "text/plain": [
       "[]"
      ]
     },
     "execution_count": 14,
     "metadata": {},
     "output_type": "execute_result"
    }
   ],
   "source": [
    "empty_comments"
   ]
  },
  {
   "cell_type": "markdown",
   "id": "15019afc-254b-42be-a317-da6fb3f4b40a",
   "metadata": {},
   "source": [
    "#### Invalid range"
   ]
  },
  {
   "cell_type": "code",
   "execution_count": 15,
   "id": "1fb5af21-ff3f-4999-a4a3-ffbbe19263ef",
   "metadata": {},
   "outputs": [
    {
     "name": "stdout",
     "output_type": "stream",
     "text": [
      "Error fetching data from StackExchange API, url:https://api.stackexchange.com/2.3/answers/-1;0;999999999999/comments, page: 1 : 400 Client Error: Bad Request for url: https://api.stackexchange.com/2.3/answers/-1;0;999999999999/comments?order=asc&sort=creation&site=stackoverflow&page=1\n"
     ]
    }
   ],
   "source": [
    "# Invalid date range\n",
    "invalid_answers = client.get_answers(int(datetime(2025, 6, 5).timestamp()), int(datetime(2025, 6, 1).timestamp()))\n",
    "assert len(invalid_answers) == 0, \"Expected no answers for invalid date range.\"\n",
    "\n",
    "# Invalid answer IDs\n",
    "invalid_comments = client.get_comments([-1, 0, 999999999999])\n",
    "assert len(invalid_comments) == 0, \"Expected no comments for invalid answer IDs.\""
   ]
  },
  {
   "cell_type": "code",
   "execution_count": 16,
   "id": "e62bbd62-2955-4ae5-bbc3-5703b7b412b8",
   "metadata": {},
   "outputs": [
    {
     "data": {
      "text/plain": [
       "[]"
      ]
     },
     "execution_count": 16,
     "metadata": {},
     "output_type": "execute_result"
    }
   ],
   "source": [
    "invalid_answers"
   ]
  },
  {
   "cell_type": "code",
   "execution_count": 17,
   "id": "0f500d2e-0c0f-49fd-8a54-49f1cc88fc8d",
   "metadata": {},
   "outputs": [
    {
     "data": {
      "text/plain": [
       "[]"
      ]
     },
     "execution_count": 17,
     "metadata": {},
     "output_type": "execute_result"
    }
   ],
   "source": [
    "invalid_comments"
   ]
  },
  {
   "cell_type": "markdown",
   "id": "b490b66f-2b08-4f85-a4b9-6ebc178a6fa9",
   "metadata": {},
   "source": [
    "### Statistics computation Schedio"
   ]
  },
  {
   "cell_type": "markdown",
   "id": "5ef8db6e-5f15-4ee1-a11c-fbef56597709",
   "metadata": {},
   "source": [
    "```\n",
    "import time\n",
    "\n",
    "start = time.time()\n",
    "# 1. Initialize counters and a set for unique question IDs\n",
    "counter_of_accepted_answers = 0\n",
    "counter_of_not_accepted_answers = 0\n",
    "sum_accepted_scores = 0\n",
    "distinct_question_ids = set()\n",
    "\n",
    "\n",
    "for answer in answers:\n",
    "    \n",
    "    qid = answer.get('question_id')\n",
    "    if qid and qid not in distinct_question_ids:\n",
    "        distinct_question_ids.add(qid)\n",
    "    \n",
    "    \n",
    "    if answer.get('is_accepted'):\n",
    "        counter_of_accepted_answers += 1\n",
    "        sum_accepted_scores += float(answer.get('score', 0))\n",
    "    else:\n",
    "        counter_of_not_accepted_answers += 1\n",
    "\n",
    "if counter_of_accepted_answers > 0:\n",
    "    avg_score_accepted_answers = sum_accepted_scores / counter_of_accepted_answers\n",
    "else:\n",
    "    avg_score_accepted_answers = 0\n",
    "\n",
    "\n",
    "total_answers = counter_of_accepted_answers + counter_of_not_accepted_answers\n",
    "if len(distinct_question_ids) > 0:\n",
    "    avg_answer_count_per_question = total_answers / len(distinct_question_ids)\n",
    "else:\n",
    "    avg_answer_count_per_question = 0\n",
    "\n",
    "end = time.time()\n",
    "# 6. Print or return the results\n",
    "print(\"Total accepted answers:\", counter_of_accepted_answers)\n",
    "print(\"Average score of accepted answers:\", avg_score_accepted_answers)\n",
    "print(\"Average answer count per question:\", avg_answer_count_per_question)\n",
    "print(\"time elapsed for 5 days range (~2000 records): \", (end - start) * 1000, \"ms\")\n",
    "```"
   ]
  },
  {
   "cell_type": "markdown",
   "id": "2776b13c-7555-460d-8a7e-ffc409d327f0",
   "metadata": {},
   "source": [
    "```\n",
    "start = time.time()\n",
    "top_10_answers = sorted(answers, key=lambda x: x['score'], reverse=True)[:10]\n",
    "end = time.time()\n",
    "print(\"time elapsed for 5 days range (~2000 records): \", (end - start) * 1000, \"ms\")\n",
    "```\n"
   ]
  }
 ],
 "metadata": {
  "kernelspec": {
   "display_name": "Python 3 (ipykernel)",
   "language": "python",
   "name": "python3"
  },
  "language_info": {
   "codemirror_mode": {
    "name": "ipython",
    "version": 3
   },
   "file_extension": ".py",
   "mimetype": "text/x-python",
   "name": "python",
   "nbconvert_exporter": "python",
   "pygments_lexer": "ipython3",
   "version": "3.11.9"
  }
 },
 "nbformat": 4,
 "nbformat_minor": 5
}
