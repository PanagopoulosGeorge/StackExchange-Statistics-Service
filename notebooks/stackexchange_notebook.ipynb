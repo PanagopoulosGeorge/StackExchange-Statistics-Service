{
 "cells": [
  {
   "cell_type": "code",
   "execution_count": 1,
   "id": "a89cf440-584e-45a1-bcc4-eb46fb2c500e",
   "metadata": {},
   "outputs": [
    {
     "name": "stdout",
     "output_type": "stream",
     "text": [
      "Applied nest_asyncio patch for Jupyter compatibility\n",
      "Changed working directory to: /Users/gphome/Desktop/projects/Obrela-assignment/StackExchange-Statistics-Service/src\n"
     ]
    }
   ],
   "source": [
    "import setup  # notebooks/setup.py\n",
    "setup.init(verbose = True)"
   ]
  },
  {
   "cell_type": "code",
   "execution_count": 2,
   "id": "7c596b57-df86-4a1c-b0e6-d09f21860303",
   "metadata": {},
   "outputs": [],
   "source": [
    "from datetime import datetime\n",
    "from app.components.stackexchange import StackExchangeClient\n",
    "import json\n",
    "from pathlib import Path\n",
    "MOCK = True\n",
    "MOCK_DATA = Path('mock_data')"
   ]
  },
  {
   "cell_type": "code",
   "execution_count": 3,
   "id": "20f28d9f-4a33-4571-8992-45c9e50fdac4",
   "metadata": {},
   "outputs": [
    {
     "name": "stdout",
     "output_type": "stream",
     "text": [
      "Fetched 2057 number of answers\n"
     ]
    }
   ],
   "source": [
    "client = StackExchangeClient()\n",
    "if not MOCK:\n",
    "    ##\n",
    "    start_date = datetime(2025, 6, 1)\n",
    "    end_date = datetime(2025, 6, 5)\n",
    "    ##\n",
    "    since = int(start_date.timestamp())\n",
    "    until = int(end_date.timestamp())\n",
    "    answers = client.get_answers(since, until)\n",
    "else:\n",
    "    filename = \"answers_2025-06-01-00-00-00_2025-06-05-00-00-00.json\"\n",
    "    full_path = MOCK_DATA / filename\n",
    "    answers = json.loads(full_path.read_text(encoding='utf-8'))\n",
    "print(f\"Fetched {len(answers)} number of answers\")\n"
   ]
  },
  {
   "cell_type": "markdown",
   "id": "8b5d99a7-b251-46e9-8b0b-9ada918cb3f2",
   "metadata": {},
   "source": [
    "### Save fetched answers\n",
    "``` If MOCK is set as False, API response is saved in the mock_data directory.```"
   ]
  },
  {
   "cell_type": "code",
   "execution_count": 4,
   "id": "7b27d7d7-aeb7-4534-a584-de0b4da1d15f",
   "metadata": {},
   "outputs": [],
   "source": [
    "if not MOCK:\n",
    "    filename = f\"answers_{start_date_string}_{end_date_string}.json\"\n",
    "    full_path = MOCK_DATA / filename\n",
    "    full_path.write_text(json.dumps(answers, indent=4), encoding='utf-8')\n",
    "    print(f\"File {filename} saved sucessfully.\")"
   ]
  },
  {
   "cell_type": "code",
   "execution_count": 5,
   "id": "176cd187-7d96-4e56-9533-8573c5711737",
   "metadata": {},
   "outputs": [],
   "source": [
    "accepted_answers = [answer for answer in answers if answer.get('is_accepted') == True]"
   ]
  },
  {
   "cell_type": "code",
   "execution_count": 6,
   "id": "00c359e8-f886-438a-83ae-68b108bfac48",
   "metadata": {},
   "outputs": [
    {
     "data": {
      "text/plain": [
       "[{'owner': {'account_id': 9938133,\n",
       "   'reputation': 53812,\n",
       "   'user_id': 7355741,\n",
       "   'user_type': 'registered',\n",
       "   'profile_image': 'https://i.sstatic.net/6CMNt.jpg?s=256',\n",
       "   'display_name': 'fmw42',\n",
       "   'link': 'https://stackoverflow.com/users/7355741/fmw42'},\n",
       "  'is_accepted': True,\n",
       "  'score': 3,\n",
       "  'last_activity_date': 1748725286,\n",
       "  'creation_date': 1748725286,\n",
       "  'answer_id': 79646989,\n",
       "  'question_id': 79644827,\n",
       "  'content_license': 'CC BY-SA 4.0'},\n",
       " {'owner': {'account_id': 23627132,\n",
       "   'reputation': 341,\n",
       "   'user_id': 17659480,\n",
       "   'user_type': 'registered',\n",
       "   'profile_image': 'https://lh3.googleusercontent.com/a/AATXAJw8tYRnPGJplk7WIWrznLDbVa-Wb90uLGnawndL=k-s256',\n",
       "   'display_name': 'Navid Abedini',\n",
       "   'link': 'https://stackoverflow.com/users/17659480/navid-abedini'},\n",
       "  'is_accepted': True,\n",
       "  'score': 2,\n",
       "  'last_activity_date': 1748725425,\n",
       "  'creation_date': 1748725425,\n",
       "  'answer_id': 79646993,\n",
       "  'question_id': 79646705,\n",
       "  'content_license': 'CC BY-SA 4.0'},\n",
       " {'posted_by_collectives': [{'tags': ['aws-cloudformation',\n",
       "     'aws-iot-sitewise',\n",
       "     'alexa-flash-briefing-skill',\n",
       "     'aws-sdk-go',\n",
       "     'amazon-ami',\n",
       "     'amazon-dynamodb-dax',\n",
       "     'alexa-interaction-model',\n",
       "     'amazon-lightsail',\n",
       "     'amazon-ecs',\n",
       "     'amazon-gamelift',\n",
       "     'amazon-redshift-spectrum',\n",
       "     'aws-mediapackage',\n",
       "     'aws-organizations',\n",
       "     'amazon-translate',\n",
       "     'aws-backup',\n",
       "     'aws-lake-formation',\n",
       "     'amazon-connect',\n",
       "     'aws-iot-events',\n",
       "     'aws-sam',\n",
       "     'alexa-sdk-python',\n",
       "     'amazon-timestream',\n",
       "     'amazon-s3',\n",
       "     'amazon-elastic-transcoder',\n",
       "     'amazon-iam',\n",
       "     'aws-sdk-ios',\n",
       "     'aws-databrew',\n",
       "     'amazon-workmail',\n",
       "     'aws-batch',\n",
       "     'aws-parameter-store',\n",
       "     'elastic-ip',\n",
       "     'amazon-rds',\n",
       "     'aws-sdk-ruby',\n",
       "     'amazon-waf',\n",
       "     'aws-sdk-js',\n",
       "     'aws-chatbot',\n",
       "     'amazon-kinesis-firehose',\n",
       "     'aws-mobilehub',\n",
       "     'aws-sdk-js-v3',\n",
       "     'amazon-managed-blockchain',\n",
       "     'aws-vpn',\n",
       "     'amazon-ses',\n",
       "     'aws-elastictranscoder',\n",
       "     'aws-copilot',\n",
       "     'aws-sdk-nodejs',\n",
       "     'amazon-ec2',\n",
       "     'aws-msk',\n",
       "     'amazon-cloudhsm',\n",
       "     'alexa-skills-kit',\n",
       "     'aws-datasync',\n",
       "     'amazon-elastic-beanstalk',\n",
       "     'aws-device-farm',\n",
       "     'aws-lambda-edge',\n",
       "     'aws-codestar',\n",
       "     'aws-security-hub',\n",
       "     'amazon-cloudfront',\n",
       "     'amazon-lex',\n",
       "     'aws-xray',\n",
       "     'amazon-glacier',\n",
       "     'alexa-sdk-nodejs',\n",
       "     'aws-documentdb',\n",
       "     'amazon-dynamodb',\n",
       "     'aws-direct-connect',\n",
       "     'amazon-macie',\n",
       "     'aws-sdk-go-v2',\n",
       "     'aws-lambda',\n",
       "     'amazon-comprehend',\n",
       "     'aws-snowball',\n",
       "     'amazon-location-service',\n",
       "     'aws-app-config',\n",
       "     'aws-cloudmap',\n",
       "     'amazon-kinesis-video-streams',\n",
       "     'amazon-rekognition',\n",
       "     'amazon-q-developer',\n",
       "     'amazon-qldb',\n",
       "     'amazon-eks',\n",
       "     'amazon-sumerian',\n",
       "     'aws-secrets-manager',\n",
       "     'aws-directory-services',\n",
       "     'aws-sct',\n",
       "     'amazon-redshift',\n",
       "     'aws-application-load-balancer',\n",
       "     'amazon-appflow',\n",
       "     'aws-media-live',\n",
       "     'aws-codeguru',\n",
       "     'amazon-swf',\n",
       "     'aws-glue',\n",
       "     'aws-iot-greengrass',\n",
       "     'aws-codebuild',\n",
       "     'aws-global-accelerator',\n",
       "     'aws-billing',\n",
       "     'aws-dms',\n",
       "     'aws-cli',\n",
       "     'aws-codecommit',\n",
       "     'aws-cdk',\n",
       "     'amazon-vpc',\n",
       "     'aws-deeplens',\n",
       "     'aws-serverless',\n",
       "     'amazon-quicksight',\n",
       "     'aws-cloudshell',\n",
       "     'amazon-athena',\n",
       "     'aws-fis',\n",
       "     'aws-app-mesh',\n",
       "     'amazon-neptune',\n",
       "     'alexa-account-linking',\n",
       "     'amazon-emr',\n",
       "     'aws-graviton',\n",
       "     'aws-iam-identity-center',\n",
       "     'aws-transfer-family',\n",
       "     'aws-copilot-cli',\n",
       "     'amazon-inspector',\n",
       "     'aws-iot-core',\n",
       "     'amazon-route53',\n",
       "     'amazon-kinesis-analytics',\n",
       "     'amazon-elb',\n",
       "     'aws-fargate',\n",
       "     'aws-sdk-android',\n",
       "     'aws-service-catalog',\n",
       "     'aws-elb',\n",
       "     'aws-certificate-manager',\n",
       "     'amazon-polly',\n",
       "     'aws-sdk-rust',\n",
       "     'amazon-workdocs',\n",
       "     'aws-lambda-powertools',\n",
       "     'amazon-ivs',\n",
       "     'amazon-personalize',\n",
       "     'aws-mediatailor',\n",
       "     'aws-step-functions',\n",
       "     'amazon-codewhisperer',\n",
       "     'aws-private-link',\n",
       "     'amazon-kinesis',\n",
       "     'amazon-sns',\n",
       "     'aws-appstream',\n",
       "     'aws-auto-scaling',\n",
       "     'amazon-web-services',\n",
       "     'amazon-app-runner',\n",
       "     'aws-storage-gateway',\n",
       "     'alexa-presentation-language',\n",
       "     'aws-media-convert',\n",
       "     'aws-iot-analytics',\n",
       "     'aws-cloud9',\n",
       "     'amazon-imagebuilder',\n",
       "     'amazon-cloudsearch',\n",
       "     'aws-code-deploy',\n",
       "     'amazon-transcribe',\n",
       "     'aws-codeartifact',\n",
       "     'aws-sdk',\n",
       "     'aws-sso',\n",
       "     'aws-nlb',\n",
       "     'aws-event-bridge',\n",
       "     'aws-mediaconnect',\n",
       "     'aws-iot',\n",
       "     'alexa-smapi',\n",
       "     'aws-data-exchange',\n",
       "     'aws-elemental',\n",
       "     'aws-api-gateway',\n",
       "     'amazon-opensearch',\n",
       "     'aws-sdk-net',\n",
       "     'amazon-workspaces',\n",
       "     'amazon-bedrock',\n",
       "     'amazon-kendra',\n",
       "     'amazon-honeycode',\n",
       "     'alexa-smart-home-skill',\n",
       "     'amazon-aurora',\n",
       "     'aws-opsworks',\n",
       "     'amazon-simpledb',\n",
       "     'amazon-s3-select',\n",
       "     'amazon-sagemaker',\n",
       "     'aws-appsync',\n",
       "     'aws-mediastore',\n",
       "     'amazon-elasticache',\n",
       "     'amazon-memory-db',\n",
       "     'amazon-mq',\n",
       "     'amazon-ecr',\n",
       "     'amazon-kms',\n",
       "     'amazon-textract',\n",
       "     'aws-control-tower',\n",
       "     'aws-sdk-java',\n",
       "     'aws-sdk-comprehend',\n",
       "     'aws-resource-group',\n",
       "     'amazon-elasticsearch',\n",
       "     'amazon-efs',\n",
       "     'amazon-sqs',\n",
       "     'aws-sdk-cpp',\n",
       "     'amazon-cloudtrail',\n",
       "     'aws-security-group',\n",
       "     'amazon-ebs',\n",
       "     'amazon-sagemaker-compilers',\n",
       "     'aws-codecatalyst',\n",
       "     'amazon-guardduty',\n",
       "     'aws-config',\n",
       "     'aws-reserved-instances',\n",
       "     'amazon-ec2-spot-market',\n",
       "     'amazon-keyspaces',\n",
       "     'amazon-data-pipeline',\n",
       "     'amazon-forecast',\n",
       "     'aws-ssm',\n",
       "     'amazon-cognito',\n",
       "     'aws-codepipeline',\n",
       "     'aws-sdk-mock',\n",
       "     'aws-amplify',\n",
       "     'aws-acm',\n",
       "     'amazon-cloudwatch',\n",
       "     'amazon-fsx',\n",
       "     'aws-sdk-java-2.0',\n",
       "     'aws-sam-cli',\n",
       "     'amazon-cloudwatchlogs',\n",
       "     'aws-pinpoint'],\n",
       "    'external_links': [{'type': 'support',\n",
       "      'link': 'https://stackoverflow.com/contact?topic=15'}],\n",
       "    'description': 'A collective for developers who utilize Amazon Web Services&#39; infrastructure and platform capabilities. The AWS Collective is organized and managed by the Stack Overflow community as a resource for developers.',\n",
       "    'link': '/collectives/aws',\n",
       "    'name': 'AWS',\n",
       "    'slug': 'aws'}],\n",
       "  'owner': {'account_id': 58377,\n",
       "   'reputation': 271582,\n",
       "   'user_id': 174777,\n",
       "   'user_type': 'registered',\n",
       "   'profile_image': 'https://i.sstatic.net/6PnNW.jpg?s=256',\n",
       "   'display_name': 'John Rotenstein',\n",
       "   'link': 'https://stackoverflow.com/users/174777/john-rotenstein'},\n",
       "  'is_accepted': True,\n",
       "  'score': 2,\n",
       "  'last_activity_date': 1748727945,\n",
       "  'creation_date': 1748727945,\n",
       "  'answer_id': 79647019,\n",
       "  'question_id': 79646613,\n",
       "  'content_license': 'CC BY-SA 4.0'},\n",
       " {'owner': {'account_id': 6651855,\n",
       "   'reputation': 283595,\n",
       "   'user_id': 5133585,\n",
       "   'user_type': 'registered',\n",
       "   'accept_rate': 96,\n",
       "   'profile_image': 'https://i.sstatic.net/dfqcw.png?s=256',\n",
       "   'display_name': 'Sweeper',\n",
       "   'link': 'https://stackoverflow.com/users/5133585/sweeper'},\n",
       "  'is_accepted': True,\n",
       "  'score': 5,\n",
       "  'last_activity_date': 1748759125,\n",
       "  'last_edit_date': 1748759125,\n",
       "  'creation_date': 1748729726,\n",
       "  'answer_id': 79647028,\n",
       "  'question_id': 79647016,\n",
       "  'content_license': 'CC BY-SA 4.0'},\n",
       " {'owner': {'account_id': 20264817,\n",
       "   'reputation': 75380,\n",
       "   'user_id': 14868997,\n",
       "   'user_type': 'registered',\n",
       "   'profile_image': 'https://www.gravatar.com/avatar/40cbeeb90667c9a8c1830f615a9b2899?s=256&d=identicon&r=PG',\n",
       "   'display_name': 'Charlieface',\n",
       "   'link': 'https://stackoverflow.com/users/14868997/charlieface'},\n",
       "  'is_accepted': True,\n",
       "  'score': 0,\n",
       "  'last_activity_date': 1748731663,\n",
       "  'creation_date': 1748731663,\n",
       "  'answer_id': 79647043,\n",
       "  'question_id': 79638253,\n",
       "  'content_license': 'CC BY-SA 4.0'}]"
      ]
     },
     "execution_count": 6,
     "metadata": {},
     "output_type": "execute_result"
    }
   ],
   "source": [
    "accepted_answers[:5]"
   ]
  },
  {
   "cell_type": "code",
   "execution_count": 6,
   "id": "14b3f9fe-7f4a-41a6-9b45-cd7a52d37c22",
   "metadata": {},
   "outputs": [
    {
     "name": "stdout",
     "output_type": "stream",
     "text": [
      "440\n"
     ]
    }
   ],
   "source": [
    "print(len(accepted_answers))"
   ]
  },
  {
   "cell_type": "code",
   "execution_count": 7,
   "id": "3d797fe9-3759-40b7-a82f-4fda6a080b1e",
   "metadata": {},
   "outputs": [],
   "source": [
    "answer_ids = [answer.get('answer_id') for answer in answers]"
   ]
  },
  {
   "cell_type": "code",
   "execution_count": 8,
   "id": "aabb8738-643c-4f3e-a263-d5653a1393da",
   "metadata": {},
   "outputs": [
    {
     "data": {
      "text/plain": [
       "2057"
      ]
     },
     "execution_count": 8,
     "metadata": {},
     "output_type": "execute_result"
    }
   ],
   "source": [
    "len(answer_ids)"
   ]
  },
  {
   "cell_type": "code",
   "execution_count": 16,
   "id": "5e69f6ba-7e6f-4daa-bf02-8c1bfd69fbad",
   "metadata": {},
   "outputs": [
    {
     "name": "stdout",
     "output_type": "stream",
     "text": [
      "Fetched 2057 number of comments\n"
     ]
    }
   ],
   "source": [
    "if not MOCK:\n",
    "    comments = client.get_comments(answer_ids)\n",
    "else:    \n",
    "    filename = \"comments_2025-06-01-00-00-00_2025-06-05-00-00-00.json\"\n",
    "    full_path = MOCK_DATA / filename\n",
    "    comments = json.loads(full_path.read_text(encoding='utf-8'))\n",
    "    print(f\"Fetched {len(comments)} number of comments\")"
   ]
  },
  {
   "cell_type": "code",
   "execution_count": 17,
   "id": "8a15bf15-5f9f-4b20-98b5-54f32a438b48",
   "metadata": {},
   "outputs": [
    {
     "data": {
      "text/plain": [
       "2057"
      ]
     },
     "execution_count": 17,
     "metadata": {},
     "output_type": "execute_result"
    }
   ],
   "source": [
    "len(comments)"
   ]
  },
  {
   "cell_type": "code",
   "execution_count": 18,
   "id": "4c51ad70-4209-4a06-afc5-5c432b98f9f8",
   "metadata": {},
   "outputs": [
    {
     "data": {
      "text/plain": [
       "[{'owner': {'account_id': 9938133,\n",
       "   'reputation': 53812,\n",
       "   'user_id': 7355741,\n",
       "   'user_type': 'registered',\n",
       "   'profile_image': 'https://i.sstatic.net/6CMNt.jpg?s=256',\n",
       "   'display_name': 'fmw42',\n",
       "   'link': 'https://stackoverflow.com/users/7355741/fmw42'},\n",
       "  'is_accepted': True,\n",
       "  'score': 3,\n",
       "  'last_activity_date': 1748725286,\n",
       "  'creation_date': 1748725286,\n",
       "  'answer_id': 79646989,\n",
       "  'question_id': 79644827,\n",
       "  'content_license': 'CC BY-SA 4.0'},\n",
       " {'owner': {'account_id': 2375785,\n",
       "   'reputation': 4919,\n",
       "   'user_id': 2079189,\n",
       "   'user_type': 'registered',\n",
       "   'profile_image': 'https://www.gravatar.com/avatar/6bc9430eeffd18d42ca4fb2efa91e418?s=256&d=identicon&r=PG',\n",
       "   'display_name': 'mugiseyebrows',\n",
       "   'link': 'https://stackoverflow.com/users/2079189/mugiseyebrows'},\n",
       "  'is_accepted': False,\n",
       "  'score': 0,\n",
       "  'last_activity_date': 1748725293,\n",
       "  'creation_date': 1748725293,\n",
       "  'answer_id': 79646990,\n",
       "  'question_id': 79646664,\n",
       "  'content_license': 'CC BY-SA 4.0'},\n",
       " {'owner': {'account_id': 23627132,\n",
       "   'reputation': 341,\n",
       "   'user_id': 17659480,\n",
       "   'user_type': 'registered',\n",
       "   'profile_image': 'https://lh3.googleusercontent.com/a/AATXAJw8tYRnPGJplk7WIWrznLDbVa-Wb90uLGnawndL=k-s256',\n",
       "   'display_name': 'Navid Abedini',\n",
       "   'link': 'https://stackoverflow.com/users/17659480/navid-abedini'},\n",
       "  'is_accepted': True,\n",
       "  'score': 2,\n",
       "  'last_activity_date': 1748725425,\n",
       "  'creation_date': 1748725425,\n",
       "  'answer_id': 79646993,\n",
       "  'question_id': 79646705,\n",
       "  'content_license': 'CC BY-SA 4.0'},\n",
       " {'owner': {'account_id': 5966479,\n",
       "   'reputation': 1,\n",
       "   'user_id': 4690155,\n",
       "   'user_type': 'registered',\n",
       "   'profile_image': 'https://i.sstatic.net/IRaFs.jpg?s=256',\n",
       "   'display_name': 'Todd Frankson',\n",
       "   'link': 'https://stackoverflow.com/users/4690155/todd-frankson'},\n",
       "  'is_accepted': False,\n",
       "  'score': 0,\n",
       "  'last_activity_date': 1748726205,\n",
       "  'last_edit_date': 1748726205,\n",
       "  'creation_date': 1748725908,\n",
       "  'answer_id': 79646996,\n",
       "  'question_id': 77575902,\n",
       "  'content_license': 'CC BY-SA 4.0'},\n",
       " {'owner': {'account_id': 29714679,\n",
       "   'reputation': 1240,\n",
       "   'user_id': 23124734,\n",
       "   'user_type': 'registered',\n",
       "   'profile_image': 'https://i.sstatic.net/Z7phgrmS.jpg?s=256',\n",
       "   'display_name': 'Solt',\n",
       "   'link': 'https://stackoverflow.com/users/23124734/solt'},\n",
       "  'is_accepted': False,\n",
       "  'score': 1,\n",
       "  'last_activity_date': 1748756597,\n",
       "  'last_edit_date': 1748756597,\n",
       "  'creation_date': 1748726037,\n",
       "  'answer_id': 79646998,\n",
       "  'question_id': 79646983,\n",
       "  'content_license': 'CC BY-SA 4.0'},\n",
       " {'owner': {'account_id': 4645359,\n",
       "   'reputation': 1,\n",
       "   'user_id': 7904561,\n",
       "   'user_type': 'registered',\n",
       "   'profile_image': 'https://i.sstatic.net/XmCOh.jpg?s=256',\n",
       "   'display_name': 'Thalys',\n",
       "   'link': 'https://stackoverflow.com/users/7904561/thalys'},\n",
       "  'is_accepted': False,\n",
       "  'score': 0,\n",
       "  'last_activity_date': 1748726115,\n",
       "  'last_edit_date': 1748726115,\n",
       "  'creation_date': 1748726062,\n",
       "  'answer_id': 79646999,\n",
       "  'question_id': 79645987,\n",
       "  'content_license': 'CC BY-SA 4.0'},\n",
       " {'owner': {'account_id': 5853491,\n",
       "   'reputation': 8258,\n",
       "   'user_id': 4611488,\n",
       "   'user_type': 'registered',\n",
       "   'profile_image': 'https://i.sstatic.net/RJRZa.png?s=256',\n",
       "   'display_name': 'Stephan Herrmann',\n",
       "   'link': 'https://stackoverflow.com/users/4611488/stephan-herrmann'},\n",
       "  'is_accepted': False,\n",
       "  'score': 1,\n",
       "  'last_activity_date': 1748726112,\n",
       "  'creation_date': 1748726112,\n",
       "  'answer_id': 79647000,\n",
       "  'question_id': 79541532,\n",
       "  'content_license': 'CC BY-SA 4.0'},\n",
       " {'owner': {'account_id': 21559058,\n",
       "   'reputation': 26,\n",
       "   'user_id': 15893858,\n",
       "   'user_type': 'registered',\n",
       "   'profile_image': 'https://lh3.googleusercontent.com/a-/AOh14Ggqm2GLSJ-2U2d_XKca8gUZLcaEB964Uf3biyztTA=k-s256',\n",
       "   'display_name': 'dakshil kanakia',\n",
       "   'link': 'https://stackoverflow.com/users/15893858/dakshil-kanakia'},\n",
       "  'is_accepted': False,\n",
       "  'score': 0,\n",
       "  'last_activity_date': 1748726377,\n",
       "  'creation_date': 1748726377,\n",
       "  'answer_id': 79647003,\n",
       "  'question_id': 77813393,\n",
       "  'content_license': 'CC BY-SA 4.0'},\n",
       " {'owner': {'account_id': 293130,\n",
       "   'reputation': 268128,\n",
       "   'user_id': 596285,\n",
       "   'user_type': 'registered',\n",
       "   'accept_rate': 100,\n",
       "   'profile_image': 'https://www.gravatar.com/avatar/b6975c494d3d9c404dd3d7af2edf3133?s=256&d=identicon&r=PG',\n",
       "   'display_name': 'BMitch',\n",
       "   'link': 'https://stackoverflow.com/users/596285/bmitch'},\n",
       "  'is_accepted': False,\n",
       "  'score': 0,\n",
       "  'last_activity_date': 1748726410,\n",
       "  'creation_date': 1748726410,\n",
       "  'answer_id': 79647004,\n",
       "  'question_id': 64071364,\n",
       "  'content_license': 'CC BY-SA 4.0'},\n",
       " {'owner': {'account_id': 2623160,\n",
       "   'reputation': 96006,\n",
       "   'user_id': 2270762,\n",
       "   'user_type': 'registered',\n",
       "   'accept_rate': 83,\n",
       "   'profile_image': 'https://www.gravatar.com/avatar/f9e8f4b7553d9afb6c8676ebde5b13a5?s=256&d=identicon&r=PG&f=y&so-version=2',\n",
       "   'display_name': 'Thorsten Kettner',\n",
       "   'link': 'https://stackoverflow.com/users/2270762/thorsten-kettner'},\n",
       "  'is_accepted': False,\n",
       "  'score': 0,\n",
       "  'last_activity_date': 1748727117,\n",
       "  'creation_date': 1748727117,\n",
       "  'answer_id': 79647013,\n",
       "  'question_id': 79646175,\n",
       "  'content_license': 'CC BY-SA 4.0'}]"
      ]
     },
     "execution_count": 18,
     "metadata": {},
     "output_type": "execute_result"
    }
   ],
   "source": [
    "comments[:10]"
   ]
  },
  {
   "cell_type": "markdown",
   "id": "1bdac20e-3084-41ea-8762-2af2ba216fb0",
   "metadata": {},
   "source": [
    "### Some edge cases"
   ]
  },
  {
   "cell_type": "markdown",
   "id": "5f40afc3-c84b-4a4b-bd69-3ad69bdb9c11",
   "metadata": {},
   "source": [
    "#### Empty "
   ]
  },
  {
   "cell_type": "code",
   "execution_count": 23,
   "id": "79fd6815-f4f0-4a00-a770-cff674fbb99e",
   "metadata": {},
   "outputs": [],
   "source": [
    "# Example test for empty results\n",
    "MOCK = False\n",
    "empty_answers = client.get_answers(int(datetime(2000, 1, 1).timestamp()), int(datetime(2000, 1, 2).timestamp()))\n",
    "assert len(empty_answers) == 0, \"Expected no answers for this date range.\"\n",
    "\n",
    "empty_comments = client.get_comments([])\n",
    "assert len(empty_comments) == 0, \"Expected no comments for empty answer IDs.\""
   ]
  },
  {
   "cell_type": "code",
   "execution_count": 24,
   "id": "488642c3-3e78-441d-9b32-96781ee09a07",
   "metadata": {},
   "outputs": [
    {
     "data": {
      "text/plain": [
       "[]"
      ]
     },
     "execution_count": 24,
     "metadata": {},
     "output_type": "execute_result"
    }
   ],
   "source": [
    "\n",
    "empty_answers"
   ]
  },
  {
   "cell_type": "code",
   "execution_count": 25,
   "id": "15a2340a-fb53-4427-bfac-7109c7962f74",
   "metadata": {},
   "outputs": [
    {
     "data": {
      "text/plain": [
       "[]"
      ]
     },
     "execution_count": 25,
     "metadata": {},
     "output_type": "execute_result"
    }
   ],
   "source": [
    "empty_comments"
   ]
  },
  {
   "cell_type": "markdown",
   "id": "15019afc-254b-42be-a317-da6fb3f4b40a",
   "metadata": {},
   "source": [
    "#### Invalid range"
   ]
  },
  {
   "cell_type": "code",
   "execution_count": 26,
   "id": "1fb5af21-ff3f-4999-a4a3-ffbbe19263ef",
   "metadata": {},
   "outputs": [
    {
     "name": "stdout",
     "output_type": "stream",
     "text": [
      "Error fetching data from StackExchange API, url:https://api.stackexchange.com/2.3/answers/-1;0;999999999999/comments, page: 1 : 400 Client Error: Bad Request for url: https://api.stackexchange.com/2.3/answers/-1;0;999999999999/comments?order=asc&sort=creation&site=stackoverflow&page=1\n"
     ]
    }
   ],
   "source": [
    "# Invalid date range\n",
    "invalid_answers = client.get_answers(int(datetime(2025, 6, 5).timestamp()), int(datetime(2025, 6, 1).timestamp()))\n",
    "assert len(invalid_answers) == 0, \"Expected no answers for invalid date range.\"\n",
    "\n",
    "# Invalid answer IDs\n",
    "invalid_comments = client.get_comments([-1, 0, 999999999999])\n",
    "assert len(invalid_comments) == 0, \"Expected no comments for invalid answer IDs.\""
   ]
  },
  {
   "cell_type": "code",
   "execution_count": 27,
   "id": "e62bbd62-2955-4ae5-bbc3-5703b7b412b8",
   "metadata": {},
   "outputs": [
    {
     "data": {
      "text/plain": [
       "[]"
      ]
     },
     "execution_count": 27,
     "metadata": {},
     "output_type": "execute_result"
    }
   ],
   "source": [
    "invalid_answers"
   ]
  },
  {
   "cell_type": "code",
   "execution_count": 28,
   "id": "0f500d2e-0c0f-49fd-8a54-49f1cc88fc8d",
   "metadata": {},
   "outputs": [
    {
     "data": {
      "text/plain": [
       "[]"
      ]
     },
     "execution_count": 28,
     "metadata": {},
     "output_type": "execute_result"
    }
   ],
   "source": [
    "invalid_comments"
   ]
  },
  {
   "cell_type": "code",
   "execution_count": null,
   "id": "4fe67610-08b9-4bda-b001-6971acda057b",
   "metadata": {},
   "outputs": [],
   "source": []
  },
  {
   "cell_type": "code",
   "execution_count": null,
   "id": "6a46348f-563d-4ecd-be0c-9f21620bd126",
   "metadata": {},
   "outputs": [],
   "source": [
    "bool(true)"
   ]
  },
  {
   "cell_type": "markdown",
   "id": "b490b66f-2b08-4f85-a4b9-6ebc178a6fa9",
   "metadata": {},
   "source": [
    "### Statistics computation"
   ]
  },
  {
   "cell_type": "code",
   "execution_count": 48,
   "id": "68f89d14-a61c-4c20-afd2-89cdf2b537a5",
   "metadata": {},
   "outputs": [
    {
     "name": "stdout",
     "output_type": "stream",
     "text": [
      "Total accepted answers: 440\n",
      "Average score of accepted answers: 1.6363636363636365\n",
      "Average answer count per question: 1.1209809264305177\n",
      "time elapsed for 5 days range (~2000 records):  2.880096435546875 ms\n"
     ]
    }
   ],
   "source": [
    "import time\n",
    "\n",
    "start = time.time()\n",
    "# 1. Initialize counters and a set for unique question IDs\n",
    "counter_of_accepted_answers = 0\n",
    "counter_of_not_accepted_answers = 0\n",
    "sum_accepted_scores = 0\n",
    "distinct_question_ids = set()\n",
    "\n",
    "\n",
    "for answer in answers:\n",
    "    \n",
    "    qid = answer.get('question_id')\n",
    "    if qid and qid not in distinct_question_ids:\n",
    "        distinct_question_ids.add(qid)\n",
    "    \n",
    "    \n",
    "    if answer.get('is_accepted'):\n",
    "        counter_of_accepted_answers += 1\n",
    "        sum_accepted_scores += float(answer.get('score', 0))\n",
    "    else:\n",
    "        counter_of_not_accepted_answers += 1\n",
    "\n",
    "if counter_of_accepted_answers > 0:\n",
    "    avg_score_accepted_answers = sum_accepted_scores / counter_of_accepted_answers\n",
    "else:\n",
    "    avg_score_accepted_answers = 0\n",
    "\n",
    "\n",
    "total_answers = counter_of_accepted_answers + counter_of_not_accepted_answers\n",
    "if len(distinct_question_ids) > 0:\n",
    "    avg_answer_count_per_question = total_answers / len(distinct_question_ids)\n",
    "else:\n",
    "    avg_answer_count_per_question = 0\n",
    "\n",
    "end = time.time()\n",
    "# 6. Print or return the results\n",
    "print(\"Total accepted answers:\", counter_of_accepted_answers)\n",
    "print(\"Average score of accepted answers:\", avg_score_accepted_answers)\n",
    "print(\"Average answer count per question:\", avg_answer_count_per_question)\n",
    "print(\"time elapsed for 5 days range (~2000 records): \", (end - start) * 1000, \"ms\")"
   ]
  },
  {
   "cell_type": "code",
   "execution_count": 49,
   "id": "fc75573f-c5b3-4d89-8f0f-ecee561cd375",
   "metadata": {},
   "outputs": [
    {
     "name": "stdout",
     "output_type": "stream",
     "text": [
      "time elapsed for 5 days range (~2000 records):  1.4238357543945312 ms\n"
     ]
    }
   ],
   "source": [
    "start = time.time()\n",
    "top_10_answers = sorted(answers, key=lambda x: x['score'], reverse=True)[:10]\n",
    "end = time.time()\n",
    "print(\"time elapsed for 5 days range (~2000 records): \", (end - start) * 1000, \"ms\")\n"
   ]
  },
  {
   "cell_type": "code",
   "execution_count": 21,
   "id": "4cfb4e04-e5e1-4276-9802-a5134fe59d83",
   "metadata": {},
   "outputs": [
    {
     "data": {
      "text/plain": [
       "1617"
      ]
     },
     "execution_count": 21,
     "metadata": {},
     "output_type": "execute_result"
    }
   ],
   "source": [
    "counter_of_not_accepted_answers"
   ]
  },
  {
   "cell_type": "code",
   "execution_count": 28,
   "id": "799607c9-0a12-436f-afef-621865e52d57",
   "metadata": {},
   "outputs": [
    {
     "data": {
      "text/plain": [
       "1.64"
      ]
     },
     "execution_count": 28,
     "metadata": {},
     "output_type": "execute_result"
    }
   ],
   "source": [
    "round(sum_accepted_scores / counter_of_accepted_answers, 2) if counter_of_accepted_answers != 0 else 0"
   ]
  },
  {
   "cell_type": "code",
   "execution_count": 39,
   "id": "11da1c39-2618-4af4-9778-0d9a2828517f",
   "metadata": {},
   "outputs": [
    {
     "data": {
      "text/plain": [
       "1.1209809264305177"
      ]
     },
     "execution_count": 39,
     "metadata": {},
     "output_type": "execute_result"
    }
   ],
   "source": [
    "len(answers) / len(question_asnwercount_dict.keys())"
   ]
  },
  {
   "cell_type": "markdown",
   "id": "6f2ad7b1-d13a-44f7-95c9-02ea4c470de4",
   "metadata": {},
   "source": [
    "## "
   ]
  }
 ],
 "metadata": {
  "kernelspec": {
   "display_name": "Python 3 (ipykernel)",
   "language": "python",
   "name": "python3"
  },
  "language_info": {
   "codemirror_mode": {
    "name": "ipython",
    "version": 3
   },
   "file_extension": ".py",
   "mimetype": "text/x-python",
   "name": "python",
   "nbconvert_exporter": "python",
   "pygments_lexer": "ipython3",
   "version": "3.9.6"
  }
 },
 "nbformat": 4,
 "nbformat_minor": 5
}
